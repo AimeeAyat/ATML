{
  "cells": [
    {
      "cell_type": "markdown",
      "id": "cdb9933a",
      "metadata": {
        "id": "cdb9933a"
      },
      "source": [
        "## 0. Setup & Imports"
      ]
    },
    {
      "cell_type": "code",
      "execution_count": 1,
      "id": "73666b9d",
      "metadata": {
        "colab": {
          "base_uri": "https://localhost:8080/"
        },
        "id": "73666b9d",
        "outputId": "1f05f1b8-4d50-4922-e9a7-90c6e6185dd3"
      },
      "outputs": [
        {
          "name": "stdout",
          "output_type": "stream",
          "text": [
            "Device: cuda\n"
          ]
        }
      ],
      "source": [
        "\n",
        "import os, random, math, json, time\n",
        "from typing import List, Tuple, Dict\n",
        "\n",
        "import numpy as np\n",
        "import torch\n",
        "import torch.nn.functional as F\n",
        "from torch.utils.data import DataLoader, Subset\n",
        "import torchvision\n",
        "from torchvision import datasets, transforms\n",
        "import matplotlib.pyplot as plt\n",
        "\n",
        "from sklearn.linear_model import LogisticRegression\n",
        "from sklearn.metrics import accuracy_score\n",
        "from tqdm import tqdm\n",
        "\n",
        "from transformers import AutoImageProcessor, AutoConfig, AutoModelForImageClassification\n",
        "\n",
        "# Reproducibility\n",
        "def set_seed(seed: int = 1337):\n",
        "    random.seed(seed); np.random.seed(seed); torch.manual_seed(seed); torch.cuda.manual_seed_all(seed)\n",
        "    torch.backends.cudnn.deterministic = True\n",
        "    torch.backends.cudnn.benchmark = False\n",
        "\n",
        "set_seed(42)\n",
        "\n",
        "device = \"cuda\" if torch.cuda.is_available() else \"cpu\"\n",
        "print(\"Device:\", device)\n",
        "\n",
        "# Artifacts dir\n",
        "ART_DIR = \"artifacts\"\n",
        "os.makedirs(ART_DIR, exist_ok=True)\n"
      ]
    },
    {
      "cell_type": "markdown",
      "id": "735597dd",
      "metadata": {
        "id": "735597dd"
      },
      "source": [
        "## 1. Configuration"
      ]
    },
    {
      "cell_type": "code",
      "execution_count": 2,
      "id": "4a4d88a9",
      "metadata": {
        "colab": {
          "base_uri": "https://localhost:8080/"
        },
        "id": "4a4d88a9",
        "outputId": "74cf8594-f4f8-4d84-f46b-c1996e95b3a4"
      },
      "outputs": [
        {
          "name": "stdout",
          "output_type": "stream",
          "text": [
            "Config OK\n"
          ]
        }
      ],
      "source": [
        "\n",
        "MODEL_NAMES = [\n",
        "    \"google/vit-base-patch16-224\",\n",
        "    \"facebook/deit-base-patch16-224\",\n",
        "    \"google/vit-large-patch16-224\",\n",
        "]\n",
        "\n",
        "# For quick demos, we use CIFAR-10 resized to 224x224.\n",
        "# Linear probes are trained on a subset for speed; adjust sizes as needed.\n",
        "IMG_SIZE = 224\n",
        "BATCH_SIZE = 32\n",
        "NUM_WORKERS = 2\n",
        "\n",
        "# Linear probe subset sizes (adjust for more rigorous evaluation)\n",
        "TRAIN_SAMPLES = 10000  # from CIFAR-10 train (50k total)\n",
        "TEST_SAMPLES = 2000    # from CIFAR-10 test (10k total)\n",
        "\n",
        "# Attention visualization: pick a few sample images from the test set\n",
        "N_VIZ = 6  # number of images to visualize per model\n",
        "\n",
        "# Patch masking settings\n",
        "PATCH_SIZE = 16  # for these ViT models, patch16\n",
        "MASK_KEEP_RATIO_LIST = [1.0, 0.7, 0.4]  # 100% (no mask), 70% kept, 40% kept\n",
        "\n",
        "# Pooling methods for linear probes\n",
        "POOLING_METHODS = [\"cls\", \"mean\"]\n",
        "\n",
        "SAVE_JSON = os.path.join(ART_DIR, \"task2_summary.json\")\n",
        "\n",
        "print(\"Config OK\")\n"
      ]
    },
    {
      "cell_type": "markdown",
      "id": "114a10d0",
      "metadata": {
        "id": "114a10d0"
      },
      "source": [
        "## 2. Dataset (CIFAR-10 resized to 224×224)"
      ]
    },
    {
      "cell_type": "code",
      "execution_count": 3,
      "id": "8a5ca0f2",
      "metadata": {
        "colab": {
          "base_uri": "https://localhost:8080/"
        },
        "id": "8a5ca0f2",
        "outputId": "bca7a2a7-6b7e-4c37-fd38-bd28f4a5ef21"
      },
      "outputs": [
        {
          "name": "stderr",
          "output_type": "stream",
          "text": [
            "100%|██████████| 170M/170M [00:02<00:00, 70.5MB/s]\n"
          ]
        },
        {
          "data": {
            "text/plain": [
              "(['airplane', 'automobile', 'bird', 'cat', 'deer'], 10)"
            ]
          },
          "execution_count": 3,
          "metadata": {},
          "output_type": "execute_result"
        }
      ],
      "source": [
        "\n",
        "# Transforms to 224x224 (models expect 224 with ImageNet normalization handled by processors later)\n",
        "base_transform = transforms.Compose([\n",
        "    transforms.Resize((IMG_SIZE, IMG_SIZE)),\n",
        "    transforms.ToTensor(),  # keep raw [0,1]; processor will normalize\n",
        "])\n",
        "\n",
        "train_set = datasets.CIFAR10(root=\"data\", train=True, download=True, transform=base_transform)\n",
        "test_set  = datasets.CIFAR10(root=\"data\", train=False, download=True, transform=base_transform)\n",
        "\n",
        "# Subsample for speed\n",
        "train_indices = np.random.RandomState(42).choice(len(train_set), size=TRAIN_SAMPLES, replace=False)\n",
        "test_indices  = np.random.RandomState(24).choice(len(test_set),  size=TEST_SAMPLES,  replace=False)\n",
        "\n",
        "train_subset = Subset(train_set, train_indices)\n",
        "test_subset  = Subset(test_set,  test_indices)\n",
        "\n",
        "train_loader = DataLoader(train_subset, batch_size=BATCH_SIZE, shuffle=True,  num_workers=NUM_WORKERS, pin_memory=True)\n",
        "test_loader  = DataLoader(test_subset,  batch_size=BATCH_SIZE, shuffle=False, num_workers=NUM_WORKERS, pin_memory=True)\n",
        "\n",
        "# For visualization picks\n",
        "viz_indices = np.random.RandomState(7).choice(len(test_set), size=N_VIZ, replace=False)\n",
        "viz_subset = Subset(test_set, viz_indices)\n",
        "viz_loader = DataLoader(viz_subset, batch_size=1, shuffle=False)\n",
        "\n",
        "CIFAR10_CLASSES = train_set.classes\n",
        "CIFAR10_CLASSES[:5], len(CIFAR10_CLASSES)\n"
      ]
    },
    {
      "cell_type": "markdown",
      "id": "726caf14",
      "metadata": {
        "id": "726caf14"
      },
      "source": [
        "## 3. Utilities — Attention Maps, Heatmap Overlay (Red), Patch Masking, Feature Extraction"
      ]
    },
    {
      "cell_type": "code",
      "execution_count": 17,
      "id": "12594d74",
      "metadata": {
        "id": "12594d74"
      },
      "outputs": [],
      "source": [
        "import torch.nn as nn\n",
        "import cv2\n",
        "import numpy as np\n",
        "\n",
        "def to_numpy_img(t: torch.Tensor) -> np.ndarray:\n",
        "    \"\"\"Convert CHW tensor in [0,1] to HxWxC uint8 for plotting.\"\"\"\n",
        "    t = t.detach().cpu().clamp(0,1)\n",
        "    if t.ndim == 4:\n",
        "        t = t[0]\n",
        "    t = (t.permute(1,2,0).numpy() * 255).astype(np.uint8)\n",
        "    return t\n",
        "\n",
        "def overlay_red_heatmap(img_np: np.ndarray, heatmap: np.ndarray, alpha: float = 0.45) -> np.ndarray:\n",
        "    \"\"\"Overlay a red heatmap onto an image.\n",
        "    - img_np: HxWxC uint8 image\n",
        "    - heatmap: HxW float in [0,1]\n",
        "    - alpha: blending factor\n",
        "    \"\"\"\n",
        "    heatmap = np.clip(heatmap, 0, 1)\n",
        "    heatmap_uint8 = (heatmap * 255).astype(np.uint8)\n",
        "    # Use OpenCV applyColorMap with COLORMAP_HOT or build red colormap\n",
        "    # We'll build a red colormap manually to ensure 'red' hue.\n",
        "    red_map = np.zeros((256,1,3), dtype=np.uint8)\n",
        "    red_map[:,0,2] = 0        # Blue\n",
        "    red_map[:,0,1] = 0        # Green\n",
        "    red_map[:,0,0] = np.arange(256)  # Red channel increases\n",
        "    red = cv2.applyColorMap(heatmap_uint8, red_map)  # expects a 256x1x3 LUT\n",
        "\n",
        "    # Blend\n",
        "    red = cv2.cvtColor(red, cv2.COLOR_BGR2RGB)\n",
        "    overlay = cv2.addWeighted(img_np, 1.0, red, alpha, 0)\n",
        "    return overlay\n",
        "\n",
        "def attention_to_map(attentions: torch.Tensor, patch_grid: Tuple[int,int]) -> torch.Tensor:\n",
        "    \"\"\"Convert last-layer attentions (batch,num_heads,seq,seq) to a [B, H, W] attention map of CLS->patch.\n",
        "    - attentions: from model outputs.attentions[-1], shape [B, heads, seq, seq]\n",
        "    - patch_grid: (Gh, Gw), where seq = 1 + Gh*Gw\n",
        "    Returns: [B, Gh, Gw] averaged over heads.\n",
        "    \"\"\"\n",
        "    B, H, S, _ = attentions.shape\n",
        "    Gh, Gw = patch_grid\n",
        "    assert S == 1 + Gh*Gw, f\"Seq len mismatch: got {S}, expected {1+Gh*Gw} for grid {patch_grid}\"\n",
        "    # Take CLS token attention to all tokens: index 0 along query dimension\n",
        "    cls_to_all = attentions.mean(dim=1)[:, 0, :]  # [B, S]\n",
        "    # Drop the CLS token (first position) -> [B, Gh*Gw]\n",
        "    cls_to_patches = cls_to_all[:, 1:]\n",
        "    # Normalize per-sample\n",
        "    cls_to_patches = cls_to_patches / (cls_to_patches.amax(dim=1, keepdim=True) + 1e-6)\n",
        "    attn_map = cls_to_patches.reshape(B, Gh, Gw)\n",
        "    return attn_map\n",
        "\n",
        "def resize_map_to_img(attn_map: torch.Tensor, img_size: int) -> np.ndarray:\n",
        "    \"\"\"Resize [Gh,Gw] attn_map to [img_size,img_size] using cv2.\"\"\"\n",
        "    m = attn_map.detach().cpu().numpy()\n",
        "    m = cv2.resize(m, (img_size, img_size), interpolation=cv2.INTER_CUBIC)\n",
        "    m = (m - m.min()) / (m.max() - m.min() + 1e-6)\n",
        "    return m\n",
        "\n",
        "def mask_image_patches(img_t: torch.Tensor, patch_size: int, keep_ratio: float) -> torch.Tensor:\n",
        "    \"\"\"Randomly keep a ratio of patches and zero the rest in the image space.\n",
        "    - img_t: [C,H,W] in [0,1]\n",
        "    - patch_size: e.g., 16\n",
        "    - keep_ratio: in (0,1], fraction of patches to keep\n",
        "    Returns masked image tensor [C,H,W].\n",
        "    \"\"\"\n",
        "    C, H, W = img_t.shape\n",
        "    Gh, Gw = H // patch_size, W // patch_size\n",
        "    total = Gh*Gw\n",
        "    keep = max(1, int(total * keep_ratio))\n",
        "    idx = np.random.choice(total, size=keep, replace=False)\n",
        "    mask = np.zeros(total, dtype=np.uint8)\n",
        "    mask[idx] = 1\n",
        "    mask = mask.reshape(Gh, Gw)\n",
        "\n",
        "    img_np = img_t.detach().cpu().numpy().copy()\n",
        "    for r in range(Gh):\n",
        "        for c in range(Gw):\n",
        "            if mask[r,c] == 0:\n",
        "                r0, r1 = r*patch_size, (r+1)*patch_size\n",
        "                c0, c1 = c*patch_size, (c+1)*patch_size\n",
        "                img_np[:, r0:r1, c0:c1] = 0.0\n",
        "    return torch.from_numpy(img_np).to(img_t.device)\n",
        "\n",
        "@torch.no_grad()\n",
        "def extract_features_batch(model, processor, batch_imgs: torch.Tensor, return_hidden_states: bool = True):\n",
        "    \"\"\"Forward pass returning logits and last hidden states for pooling-based features.\"\"\"\n",
        "    inputs = processor(images=[to_numpy_img(img) for img in batch_imgs], return_tensors=\"pt\").to(device)\n",
        "    outputs = model(**inputs, output_attentions=True, output_hidden_states=True)\n",
        "    logits = outputs.logits\n",
        "    # For linear probes, we use the last hidden state before classification head\n",
        "    last_hidden = outputs.hidden_states[-1]  # [B, seq, dim]\n",
        "    return logits, last_hidden, outputs.attentions # Return all attentions"
      ]
    },
    {
      "cell_type": "markdown",
      "id": "42f6c615",
      "metadata": {
        "id": "42f6c615"
      },
      "source": [
        "## 4. Load Models & ImageProcessors"
      ]
    },
    {
      "cell_type": "code",
      "execution_count": 15,
      "id": "6bf2c2df",
      "metadata": {
        "colab": {
          "base_uri": "https://localhost:8080/",
          "height": 348,
          "referenced_widgets": [
            "02770eb5c9054aa8a4f60e3b35fbe27d",
            "3ba7cd345abb4b198785f7b972c2b8f0",
            "64a632aa27414ba49d04cac6599d46fc",
            "071e089e3f914fd5a2264437908f782a",
            "7d8761b683ad4125b6a66178b2d3b02e",
            "df9380fdf5c440f4a9b168b913b8c518",
            "12c974d13e1647e699a0599ccd35ccbc",
            "d17ec385e0b14b068c08d0c44ce23e9d",
            "d02fb521a17748c09307aabe803b6daa",
            "f0d137d9c2c844ba80c3c96fc4bd7a77",
            "fcd00bad340f457893d4af1951433d71",
            "f906e23e0a0c46d69e283f586d9df544",
            "cdd83d9ddc3c4c88b709e7660a105436",
            "4a329efd7a194baf908d1a817589ba4d",
            "a15d3123b65d40bc849fd24e991aa19d",
            "9e024cfde4184ae18e7b6943bb8d385f",
            "b9877a4e62df45b59b78ddf78c8a8685",
            "dcb280322036416e91b2cfe6ea6a8b80",
            "713c3691c21b4d509a23177bed6f2db2",
            "aba981cb80584291ac6653a24c559df4",
            "20bf3f0baa0a493ab648adf2b63fccec",
            "e4651e4a7f88416caad89d75321e8ae6",
            "6c63d9ba359d4f4dac9225d6b69f40bb",
            "3dcdb73fb420482ea07cdf7cc1cd3a28",
            "aa5de7f91f1c46ed9685eb95ccdade59",
            "6ae3373d6ffe4ee28b3344334f1dccd6",
            "c854bddfef6743d0af24e076d54050f1",
            "496f9dc65c5f4e6b8e0495a1932b3ae6",
            "bce4347b23cf42058a2d9f14244832a7",
            "d89cdbdd58af46aba58df399b0e4a9f9",
            "5ce02a98e4db49faab3a7dae95aeae98",
            "720997014bd345f9832207e4107b7adb",
            "fecdbf62ddc34be08d8899d6e3ec61d5",
            "42bcf5ae9b6443a7a6f34905a799d474",
            "f4a065556a5640868f3c214588a43849",
            "a337e04629d9486299ed7af681043ca6",
            "ddb84d7904504bf98f443e5caa840229",
            "742eafa35233405f89859585f4dcc2f5",
            "59e0a501e9614f81bd1e78191624032f",
            "d6d563affebb4b20a40dc4b85e6b414e",
            "1e6ab9315ac147b2b857a18d45ec9fb9",
            "86957e5fcfbb4e64926f51e0172dfc1e",
            "8c1b96b238844cff8b051071f7adadbd",
            "846525b9845c465bac8005e3dd53a8b0",
            "bb4add4a377f4db492d6762b0724bb94",
            "3e62c82040e646ea92be4fe161395aed",
            "bcd88de2ba924fdc9a5f8b31e6dc0e73",
            "8b0f621c50e44508970e85f1cdbdf288",
            "2ced3e87728a4460bad857c92f0d2b7b",
            "ffd7641046ea40da80a26c0cdf48c0de",
            "92c3f880efc64b61a88343677a8c81e4",
            "76de166dda6945eab6c0ea1c331e3495",
            "f48b90c9850842508bb855e30b8a0643",
            "b752793505724cdea0b84331892be0e6",
            "4fea31813bf647138032219b5fb2a6f2",
            "904cbfabe9bf4582ad82d35acfdf7b7f",
            "f766716a251740679bfaa64a62f731ec",
            "16e052c096234664b992f9770ea9fcf3",
            "f519b9bddd334ea389c55b9a36f9afe1",
            "bd35cedb613f4564933374cbfc6abfbf",
            "cad482475fae44ec9f0d8730248e5a60",
            "ff04168c58a74caca2630eb23d7a0ab2",
            "08221763c66042b0b324ff33a41bd71e",
            "412ea0ca2dd24269a764bd6a981c5ce4",
            "026e76ffd51f47659f7cf0baebc95604",
            "9096be7e058546d7a26fb8876504339b"
          ]
        },
        "id": "6bf2c2df",
        "outputId": "3eca1590-393a-41e5-b026-efa7a422d844"
      },
      "outputs": [
        {
          "name": "stdout",
          "output_type": "stream",
          "text": [
            "Loading: google/vit-base-patch16-224\n"
          ]
        },
        {
          "data": {
            "application/vnd.jupyter.widget-view+json": {
              "model_id": "02770eb5c9054aa8a4f60e3b35fbe27d",
              "version_major": 2,
              "version_minor": 0
            },
            "text/plain": [
              "Fetching 1 files:   0%|          | 0/1 [00:00<?, ?it/s]"
            ]
          },
          "metadata": {},
          "output_type": "display_data"
        },
        {
          "name": "stderr",
          "output_type": "stream",
          "text": [
            "Fast image processor class <class 'transformers.models.vit.image_processing_vit_fast.ViTImageProcessorFast'> is available for this model. Using slow image processor class. To use the fast image processor class set `use_fast=True`.\n"
          ]
        },
        {
          "data": {
            "application/vnd.jupyter.widget-view+json": {
              "model_id": "f906e23e0a0c46d69e283f586d9df544",
              "version_major": 2,
              "version_minor": 0
            },
            "text/plain": [
              "Fetching 1 files:   0%|          | 0/1 [00:00<?, ?it/s]"
            ]
          },
          "metadata": {},
          "output_type": "display_data"
        },
        {
          "name": "stdout",
          "output_type": "stream",
          "text": [
            "Loading: facebook/deit-base-patch16-224\n"
          ]
        },
        {
          "data": {
            "application/vnd.jupyter.widget-view+json": {
              "model_id": "6c63d9ba359d4f4dac9225d6b69f40bb",
              "version_major": 2,
              "version_minor": 0
            },
            "text/plain": [
              "Fetching 1 files:   0%|          | 0/1 [00:00<?, ?it/s]"
            ]
          },
          "metadata": {},
          "output_type": "display_data"
        },
        {
          "name": "stderr",
          "output_type": "stream",
          "text": [
            "Fast image processor class <class 'transformers.models.vit.image_processing_vit_fast.ViTImageProcessorFast'> is available for this model. Using slow image processor class. To use the fast image processor class set `use_fast=True`.\n"
          ]
        },
        {
          "data": {
            "application/vnd.jupyter.widget-view+json": {
              "model_id": "42bcf5ae9b6443a7a6f34905a799d474",
              "version_major": 2,
              "version_minor": 0
            },
            "text/plain": [
              "Fetching 1 files:   0%|          | 0/1 [00:00<?, ?it/s]"
            ]
          },
          "metadata": {},
          "output_type": "display_data"
        },
        {
          "name": "stdout",
          "output_type": "stream",
          "text": [
            "Loading: google/vit-large-patch16-224\n"
          ]
        },
        {
          "data": {
            "application/vnd.jupyter.widget-view+json": {
              "model_id": "bb4add4a377f4db492d6762b0724bb94",
              "version_major": 2,
              "version_minor": 0
            },
            "text/plain": [
              "Fetching 1 files:   0%|          | 0/1 [00:00<?, ?it/s]"
            ]
          },
          "metadata": {},
          "output_type": "display_data"
        },
        {
          "name": "stderr",
          "output_type": "stream",
          "text": [
            "Fast image processor class <class 'transformers.models.vit.image_processing_vit_fast.ViTImageProcessorFast'> is available for this model. Using slow image processor class. To use the fast image processor class set `use_fast=True`.\n"
          ]
        },
        {
          "data": {
            "application/vnd.jupyter.widget-view+json": {
              "model_id": "904cbfabe9bf4582ad82d35acfdf7b7f",
              "version_major": 2,
              "version_minor": 0
            },
            "text/plain": [
              "Fetching 1 files:   0%|          | 0/1 [00:00<?, ?it/s]"
            ]
          },
          "metadata": {},
          "output_type": "display_data"
        },
        {
          "name": "stdout",
          "output_type": "stream",
          "text": [
            "Models loaded.\n"
          ]
        }
      ],
      "source": [
        "model_zoo = {}\n",
        "for name in MODEL_NAMES:\n",
        "    print(f\"Loading: {name}\")\n",
        "    processor = AutoImageProcessor.from_pretrained(name)\n",
        "    # Ensure output_attentions=True is set in the config\n",
        "    config = AutoConfig.from_pretrained(name)\n",
        "    config.output_attentions = True\n",
        "    model = AutoModelForImageClassification.from_pretrained(name, config=config).to(device).eval()\n",
        "    id2label = model.config.id2label\n",
        "    model_zoo[name] = {\n",
        "        \"processor\": processor,\n",
        "        \"model\": model,\n",
        "        \"id2label\": id2label,\n",
        "        \"num_labels\": model.config.num_labels,\n",
        "        \"patch_grid\": (IMG_SIZE // PATCH_SIZE, IMG_SIZE // PATCH_SIZE),\n",
        "    }\n",
        "print(\"Models loaded.\")"
      ]
    },
    {
      "cell_type": "markdown",
      "id": "3919d8ed",
      "metadata": {
        "id": "3919d8ed"
      },
      "source": [
        "## 5. Top‑1 Predictions (Sanity Check)"
      ]
    },
    {
      "cell_type": "code",
      "execution_count": 9,
      "id": "68d5cb13",
      "metadata": {
        "colab": {
          "base_uri": "https://localhost:8080/"
        },
        "id": "68d5cb13",
        "outputId": "eba9cfd0-0670-4173-9360-a387be4881b4"
      },
      "outputs": [
        {
          "name": "stdout",
          "output_type": "stream",
          "text": [
            "\n",
            "== google/vit-base-patch16-224 ==\n",
            "Sample 0: Top-1 -> basset, basset hound (0.26) | CIFAR10 label: dog\n",
            "Sample 1: Top-1 -> tailed frog, bell toad, ribbed toad, tailed toad, Ascaphus trui (0.98) | CIFAR10 label: frog\n",
            "Sample 2: Top-1 -> warplane, military plane (0.06) | CIFAR10 label: airplane\n",
            "Sample 3: Top-1 -> fox squirrel, eastern fox squirrel, Sciurus niger (0.17) | CIFAR10 label: bird\n",
            "Sample 4: Top-1 -> moving van (0.81) | CIFAR10 label: truck\n",
            "Sample 5: Top-1 -> ostrich, Struthio camelus (0.98) | CIFAR10 label: bird\n",
            "\n",
            "== facebook/deit-base-patch16-224 ==\n",
            "Sample 0: Top-1 -> Shih-Tzu (0.16) | CIFAR10 label: dog\n",
            "Sample 1: Top-1 -> tailed frog, bell toad, ribbed toad, tailed toad, Ascaphus trui (0.24) | CIFAR10 label: frog\n",
            "Sample 2: Top-1 -> panpipe, pandean pipe, syrinx (0.04) | CIFAR10 label: airplane\n",
            "Sample 3: Top-1 -> brambling, Fringilla montifringilla (0.13) | CIFAR10 label: bird\n",
            "Sample 4: Top-1 -> moving van (0.08) | CIFAR10 label: truck\n",
            "Sample 5: Top-1 -> ostrich, Struthio camelus (0.14) | CIFAR10 label: bird\n",
            "\n",
            "== google/vit-large-patch16-224 ==\n",
            "Sample 0: Top-1 -> Dandie Dinmont, Dandie Dinmont terrier (0.64) | CIFAR10 label: dog\n",
            "Sample 1: Top-1 -> tailed frog, bell toad, ribbed toad, tailed toad, Ascaphus trui (0.99) | CIFAR10 label: frog\n",
            "Sample 2: Top-1 -> corkscrew, bottle screw (0.34) | CIFAR10 label: airplane\n",
            "Sample 3: Top-1 -> jacamar (0.21) | CIFAR10 label: bird\n",
            "Sample 4: Top-1 -> moving van (0.71) | CIFAR10 label: truck\n",
            "Sample 5: Top-1 -> ostrich, Struthio camelus (0.97) | CIFAR10 label: bird\n",
            "Saved: artifacts/top1_examples.json\n"
          ]
        }
      ],
      "source": [
        "\n",
        "top1_examples = []\n",
        "\n",
        "for name, pack in model_zoo.items():\n",
        "    print(f\"\\n== {name} ==\")\n",
        "    proc, mdl, id2label = pack[\"processor\"], pack[\"model\"], pack[\"id2label\"]\n",
        "    for i, (img_t, label) in enumerate(viz_loader):\n",
        "        img_t = img_t.squeeze(0).to(device)  # [C,H,W]\n",
        "        logits, last_hidden, attn = extract_features_batch(mdl, proc, img_t.unsqueeze(0))\n",
        "        probs = logits.softmax(dim=-1)[0]\n",
        "        top1_id = int(probs.argmax().item())\n",
        "        top1_label = id2label[top1_id]\n",
        "        conf = float(probs[top1_id].item())\n",
        "        print(f\"Sample {i}: Top-1 -> {top1_label} ({conf:.2f}) | CIFAR10 label: {CIFAR10_CLASSES[label.item()]}\")\n",
        "        top1_examples.append({\n",
        "            \"model\": name,\n",
        "            \"sample_idx\": i,\n",
        "            \"pred_id\": top1_id,\n",
        "            \"pred_label\": top1_label,\n",
        "            \"pred_conf\": conf,\n",
        "            \"cifar10_label\": CIFAR10_CLASSES[label.item()],\n",
        "        })\n",
        "\n",
        "# Save to JSON\n",
        "with open(os.path.join(ART_DIR, \"top1_examples.json\"), \"w\") as f:\n",
        "    json.dump(top1_examples, f, indent=2)\n",
        "print(\"Saved:\", os.path.join(ART_DIR, \"top1_examples.json\"))\n"
      ]
    },
    {
      "cell_type": "markdown",
      "id": "ae3ee1cd",
      "metadata": {
        "id": "ae3ee1cd"
      },
      "source": [
        "## 6. Attention Visualization — Red Heatmap Overlay"
      ]
    },
    {
      "cell_type": "code",
      "execution_count": 10,
      "id": "df75dce0",
      "metadata": {
        "colab": {
          "base_uri": "https://localhost:8080/"
        },
        "id": "df75dce0",
        "outputId": "b7eebf35-4da3-4d74-c6af-7cbc2721db8b"
      },
      "outputs": [
        {
          "name": "stdout",
          "output_type": "stream",
          "text": [
            "Generating attention overlays for: google/vit-base-patch16-224\n",
            "Generating attention overlays for: facebook/deit-base-patch16-224\n",
            "Generating attention overlays for: google/vit-large-patch16-224\n",
            "Saved overlays to: artifacts/attention_overlays\n"
          ]
        }
      ],
      "source": [
        "\n",
        "fig_dir = os.path.join(ART_DIR, \"attention_overlays\")\n",
        "os.makedirs(fig_dir, exist_ok=True)\n",
        "\n",
        "for name, pack in model_zoo.items():\n",
        "    proc, mdl, id2label = pack[\"processor\"], pack[\"model\"], pack[\"id2label\"]\n",
        "    Gh, Gw = pack[\"patch_grid\"]\n",
        "    print(f\"Generating attention overlays for: {name}\")\n",
        "    for i, (img_t, label) in enumerate(viz_loader):\n",
        "        img_t = img_t.squeeze(0).to(device)\n",
        "        logits, last_hidden, attentions = extract_features_batch(mdl, proc, img_t.unsqueeze(0))\n",
        "        attn_map = attention_to_map(attentions, (Gh, Gw))[0]  # [Gh,Gw]\n",
        "        attn_big = resize_map_to_img(attn_map, IMG_SIZE)      # [H,W] in [0,1]\n",
        "\n",
        "        base_img = to_numpy_img(img_t)\n",
        "        overlay = overlay_red_heatmap(base_img, attn_big, alpha=0.45)\n",
        "\n",
        "        # Save image\n",
        "        out_path = os.path.join(fig_dir, f\"{name.replace('/','_')}_viz_{i}.png\")\n",
        "        plt.figure(figsize=(4,4))\n",
        "        plt.axis('off')\n",
        "        plt.imshow(overlay)\n",
        "        plt.tight_layout()\n",
        "        plt.savefig(out_path, dpi=150, bbox_inches='tight')\n",
        "        plt.close()\n",
        "print(\"Saved overlays to:\", fig_dir)\n"
      ]
    },
    {
      "cell_type": "markdown",
      "id": "bc941069",
      "metadata": {
        "id": "bc941069"
      },
      "source": [
        "## 7. Patch Masking Experiment — Predictions & Overlays"
      ]
    },
    {
      "cell_type": "code",
      "execution_count": 11,
      "id": "b72bf837",
      "metadata": {
        "colab": {
          "base_uri": "https://localhost:8080/"
        },
        "id": "b72bf837",
        "outputId": "cc1f0b5c-7f1f-4d68-c3a3-b4646fe44bfc"
      },
      "outputs": [
        {
          "name": "stdout",
          "output_type": "stream",
          "text": [
            "Masking for: google/vit-base-patch16-224\n",
            "Masking for: facebook/deit-base-patch16-224\n",
            "Masking for: google/vit-large-patch16-224\n",
            "Saved masking overlays to: artifacts/masking_overlays\n"
          ]
        }
      ],
      "source": [
        "\n",
        "mask_dir = os.path.join(ART_DIR, \"masking_overlays\")\n",
        "os.makedirs(mask_dir, exist_ok=True)\n",
        "\n",
        "for name, pack in model_zoo.items():\n",
        "    proc, mdl, id2label = pack[\"processor\"], pack[\"model\"], pack[\"id2label\"]\n",
        "    Gh, Gw = pack[\"patch_grid\"]\n",
        "    print(f\"Masking for: {name}\")\n",
        "    for i, (img_t, label) in enumerate(viz_loader):\n",
        "        img_t = img_t.squeeze(0).to(device)\n",
        "        base_np = to_numpy_img(img_t)\n",
        "\n",
        "        for keep in MASK_KEEP_RATIO_LIST:\n",
        "            masked = mask_image_patches(img_t, PATCH_SIZE, keep_ratio=keep)\n",
        "            logits, last_hidden, attentions = extract_features_batch(mdl, proc, masked.unsqueeze(0))\n",
        "            probs = logits.softmax(dim=-1)[0]\n",
        "            top1_id = int(probs.argmax().item())\n",
        "            top1_label = id2label[top1_id]\n",
        "            conf = float(probs[top1_id].item())\n",
        "\n",
        "            attn_map = attention_to_map(attentions, (Gh, Gw))[0]\n",
        "            attn_big = resize_map_to_img(attn_map, IMG_SIZE)\n",
        "            overlay = overlay_red_heatmap(to_numpy_img(masked), attn_big, alpha=0.45)\n",
        "\n",
        "            title = f\"{name} | keep={keep:.1f} | pred={top1_label} ({conf:.2f})\"\n",
        "            out_path = os.path.join(mask_dir, f\"{name.replace('/','_')}_sample{i}_keep{int(keep*100)}.png\")\n",
        "            plt.figure(figsize=(4,4))\n",
        "            plt.imshow(overlay)\n",
        "            plt.title(title, fontsize=8)\n",
        "            plt.axis('off')\n",
        "            plt.tight_layout()\n",
        "            plt.savefig(out_path, dpi=150, bbox_inches='tight')\n",
        "            plt.close()\n",
        "\n",
        "print(\"Saved masking overlays to:\", mask_dir)\n"
      ]
    },
    {
      "cell_type": "markdown",
      "id": "756e170e",
      "metadata": {
        "id": "756e170e"
      },
      "source": [
        "## 8. Linear Probes — Feature Extraction (CLS vs Mean Pooling)"
      ]
    },
    {
      "cell_type": "code",
      "execution_count": 12,
      "id": "36b10381",
      "metadata": {
        "colab": {
          "base_uri": "https://localhost:8080/"
        },
        "id": "36b10381",
        "outputId": "d73fa80d-18a9-4287-a6b8-f26b06a14549"
      },
      "outputs": [
        {
          "name": "stdout",
          "output_type": "stream",
          "text": [
            "\n",
            "Extracting features for probes: google/vit-base-patch16-224\n"
          ]
        },
        {
          "name": "stderr",
          "output_type": "stream",
          "text": [
            "Collecting features: 100%|██████████| 313/313 [00:52<00:00,  5.91it/s]\n",
            "Collecting features: 100%|██████████| 63/63 [00:10<00:00,  5.87it/s]\n",
            "/usr/local/lib/python3.12/dist-packages/sklearn/linear_model/_logistic.py:1247: FutureWarning: 'multi_class' was deprecated in version 1.5 and will be removed in 1.7. From then on, it will always use 'multinomial'. Leave it to its default value to avoid this warning.\n",
            "  warnings.warn(\n"
          ]
        },
        {
          "name": "stdout",
          "output_type": "stream",
          "text": [
            " Training LogisticRegression for pooling = cls\n"
          ]
        },
        {
          "name": "stderr",
          "output_type": "stream",
          "text": [
            "/usr/local/lib/python3.12/dist-packages/sklearn/linear_model/_sag.py:348: ConvergenceWarning: The max_iter was reached which means the coef_ did not converge\n",
            "  warnings.warn(\n",
            "/usr/local/lib/python3.12/dist-packages/sklearn/linear_model/_logistic.py:1247: FutureWarning: 'multi_class' was deprecated in version 1.5 and will be removed in 1.7. From then on, it will always use 'multinomial'. Leave it to its default value to avoid this warning.\n",
            "  warnings.warn(\n"
          ]
        },
        {
          "name": "stdout",
          "output_type": "stream",
          "text": [
            "  -> Test Acc (cls): 0.9620\n",
            " Training LogisticRegression for pooling = mean\n"
          ]
        },
        {
          "name": "stderr",
          "output_type": "stream",
          "text": [
            "/usr/local/lib/python3.12/dist-packages/sklearn/linear_model/_sag.py:348: ConvergenceWarning: The max_iter was reached which means the coef_ did not converge\n",
            "  warnings.warn(\n"
          ]
        },
        {
          "name": "stdout",
          "output_type": "stream",
          "text": [
            "  -> Test Acc (mean): 0.9620\n",
            "\n",
            "Extracting features for probes: facebook/deit-base-patch16-224\n"
          ]
        },
        {
          "name": "stderr",
          "output_type": "stream",
          "text": [
            "Collecting features: 100%|██████████| 313/313 [00:52<00:00,  5.94it/s]\n",
            "Collecting features: 100%|██████████| 63/63 [00:10<00:00,  5.84it/s]\n",
            "/usr/local/lib/python3.12/dist-packages/sklearn/linear_model/_logistic.py:1247: FutureWarning: 'multi_class' was deprecated in version 1.5 and will be removed in 1.7. From then on, it will always use 'multinomial'. Leave it to its default value to avoid this warning.\n",
            "  warnings.warn(\n"
          ]
        },
        {
          "name": "stdout",
          "output_type": "stream",
          "text": [
            " Training LogisticRegression for pooling = cls\n"
          ]
        },
        {
          "name": "stderr",
          "output_type": "stream",
          "text": [
            "/usr/local/lib/python3.12/dist-packages/sklearn/linear_model/_sag.py:348: ConvergenceWarning: The max_iter was reached which means the coef_ did not converge\n",
            "  warnings.warn(\n",
            "/usr/local/lib/python3.12/dist-packages/sklearn/linear_model/_logistic.py:1247: FutureWarning: 'multi_class' was deprecated in version 1.5 and will be removed in 1.7. From then on, it will always use 'multinomial'. Leave it to its default value to avoid this warning.\n",
            "  warnings.warn(\n"
          ]
        },
        {
          "name": "stdout",
          "output_type": "stream",
          "text": [
            "  -> Test Acc (cls): 0.9075\n",
            " Training LogisticRegression for pooling = mean\n"
          ]
        },
        {
          "name": "stderr",
          "output_type": "stream",
          "text": [
            "/usr/local/lib/python3.12/dist-packages/sklearn/linear_model/_sag.py:348: ConvergenceWarning: The max_iter was reached which means the coef_ did not converge\n",
            "  warnings.warn(\n"
          ]
        },
        {
          "name": "stdout",
          "output_type": "stream",
          "text": [
            "  -> Test Acc (mean): 0.9170\n",
            "\n",
            "Extracting features for probes: google/vit-large-patch16-224\n"
          ]
        },
        {
          "name": "stderr",
          "output_type": "stream",
          "text": [
            "Collecting features: 100%|██████████| 313/313 [01:48<00:00,  2.87it/s]\n",
            "Collecting features: 100%|██████████| 63/63 [00:22<00:00,  2.85it/s]\n",
            "/usr/local/lib/python3.12/dist-packages/sklearn/linear_model/_logistic.py:1247: FutureWarning: 'multi_class' was deprecated in version 1.5 and will be removed in 1.7. From then on, it will always use 'multinomial'. Leave it to its default value to avoid this warning.\n",
            "  warnings.warn(\n"
          ]
        },
        {
          "name": "stdout",
          "output_type": "stream",
          "text": [
            " Training LogisticRegression for pooling = cls\n"
          ]
        },
        {
          "name": "stderr",
          "output_type": "stream",
          "text": [
            "/usr/local/lib/python3.12/dist-packages/sklearn/linear_model/_sag.py:348: ConvergenceWarning: The max_iter was reached which means the coef_ did not converge\n",
            "  warnings.warn(\n",
            "/usr/local/lib/python3.12/dist-packages/sklearn/linear_model/_logistic.py:1247: FutureWarning: 'multi_class' was deprecated in version 1.5 and will be removed in 1.7. From then on, it will always use 'multinomial'. Leave it to its default value to avoid this warning.\n",
            "  warnings.warn(\n"
          ]
        },
        {
          "name": "stdout",
          "output_type": "stream",
          "text": [
            "  -> Test Acc (cls): 0.9740\n",
            " Training LogisticRegression for pooling = mean\n",
            "  -> Test Acc (mean): 0.9720\n",
            "{\n",
            "  \"google/vit-base-patch16-224\": {\n",
            "    \"cls\": 0.962,\n",
            "    \"mean\": 0.962\n",
            "  },\n",
            "  \"facebook/deit-base-patch16-224\": {\n",
            "    \"cls\": 0.9075,\n",
            "    \"mean\": 0.917\n",
            "  },\n",
            "  \"google/vit-large-patch16-224\": {\n",
            "    \"cls\": 0.974,\n",
            "    \"mean\": 0.972\n",
            "  }\n",
            "}\n"
          ]
        }
      ],
      "source": [
        "\n",
        "def pooled_features(last_hidden: torch.Tensor, method: str) -> torch.Tensor:\n",
        "    # last_hidden: [B, seq, dim]; seq = 1 + Gh*Gw, index 0 is CLS\n",
        "    if method == \"cls\":\n",
        "        feats = last_hidden[:, 0, :]\n",
        "    elif method == \"mean\":\n",
        "        feats = last_hidden[:, 1:, :].mean(dim=1)\n",
        "    else:\n",
        "        raise ValueError(f\"Unknown pooling: {method}\")\n",
        "    return feats\n",
        "\n",
        "@torch.no_grad()\n",
        "def collect_features(model, processor, loader, max_batches=None):\n",
        "    all_feats = {m: [] for m in POOLING_METHODS}\n",
        "    all_labels = []\n",
        "    batches = 0\n",
        "    for imgs, labels in tqdm(loader, desc=\"Collecting features\"):\n",
        "        imgs = imgs.to(device)\n",
        "        logits, last_hidden, _ = extract_features_batch(model, processor, imgs)\n",
        "        for m in POOLING_METHODS:\n",
        "            feats = pooled_features(last_hidden, m)\n",
        "            all_feats[m].append(feats.detach().cpu())\n",
        "        all_labels.append(labels.detach().cpu())\n",
        "        batches += 1\n",
        "        if max_batches is not None and batches >= max_batches:\n",
        "            break\n",
        "    all_labels = torch.cat(all_labels).numpy()\n",
        "    for m in POOLING_METHODS:\n",
        "        all_feats[m] = torch.cat(all_feats[m]).numpy()\n",
        "    return all_feats, all_labels\n",
        "\n",
        "probe_results = {}\n",
        "\n",
        "for name, pack in model_zoo.items():\n",
        "    print(f\"\\nExtracting features for probes: {name}\")\n",
        "    proc, mdl = pack[\"processor\"], pack[\"model\"]\n",
        "    train_feats, train_labels = collect_features(mdl, proc, train_loader)\n",
        "    test_feats,  test_labels  = collect_features(mdl, proc, test_loader)\n",
        "\n",
        "    results = {}\n",
        "    for m in POOLING_METHODS:\n",
        "        print(f\" Training LogisticRegression for pooling = {m}\")\n",
        "        clf = LogisticRegression(\n",
        "            max_iter=1000, solver=\"saga\", n_jobs=-1, verbose=0, multi_class=\"multinomial\", C=2.0\n",
        "        )\n",
        "        clf.fit(train_feats[m], train_labels)\n",
        "        pred = clf.predict(test_feats[m])\n",
        "        acc = accuracy_score(test_labels, pred)\n",
        "        results[m] = acc\n",
        "        print(f\"  -> Test Acc ({m}): {acc:.4f}\")\n",
        "    probe_results[name] = results\n",
        "\n",
        "# Save\n",
        "with open(os.path.join(ART_DIR, \"linear_probe_results.json\"), \"w\") as f:\n",
        "    json.dump(probe_results, f, indent=2)\n",
        "print(json.dumps(probe_results, indent=2))\n"
      ]
    },
    {
      "cell_type": "markdown",
      "id": "b8dfdef8",
      "metadata": {
        "id": "b8dfdef8"
      },
      "source": [
        "## 9. Accuracy Comparison Plots (Matplotlib)"
      ]
    },
    {
      "cell_type": "code",
      "execution_count": 13,
      "id": "0c2fb8ed",
      "metadata": {
        "colab": {
          "base_uri": "https://localhost:8080/",
          "height": 430
        },
        "id": "0c2fb8ed",
        "outputId": "df001da7-62f8-45e7-9e4c-031552f4a200"
      },
      "outputs": [
        {
          "data": {
            "image/png": "[encoded data removed]",
            "text/plain": [
              "<Figure size 800x500 with 1 Axes>"
            ]
          },
          "metadata": {},
          "output_type": "display_data"
        },
        {
          "name": "stdout",
          "output_type": "stream",
          "text": [
            "Saved: artifacts/linear_probe_accuracies.png\n"
          ]
        }
      ],
      "source": [
        "\n",
        "# Bar plot across models and pooling methods\n",
        "labels = list(probe_results.keys())\n",
        "x = np.arange(len(labels))\n",
        "width = 0.35\n",
        "\n",
        "cls_acc = [probe_results[k][\"cls\"]  for k in labels]\n",
        "mean_acc= [probe_results[k][\"mean\"] for k in labels]\n",
        "\n",
        "plt.figure(figsize=(8,5))\n",
        "plt.bar(x - width/2, cls_acc,  width, label=\"CLS pooling\")\n",
        "plt.bar(x + width/2, mean_acc, width, label=\"Mean pooling\")\n",
        "plt.xticks(x, [l.split('/')[-1] for l in labels], rotation=0)\n",
        "plt.ylabel(\"Accuracy (CIFAR-10)\")\n",
        "plt.title(\"Linear Probe Accuracies by Pooling Method\")\n",
        "plt.legend()\n",
        "plt.tight_layout()\n",
        "plot_path = os.path.join(ART_DIR, \"linear_probe_accuracies.png\")\n",
        "plt.savefig(plot_path, dpi=150)\n",
        "plt.show()\n",
        "\n",
        "print(\"Saved:\", plot_path)\n"
      ]
    }
  ],
  "metadata": {
    "accelerator": "GPU",
    "colab": {
      "gpuType": "A100",
      "provenance": []
    },
    "kernelspec": {
      "display_name": "Python 3",
      "name": "python3"
    },
    "language_info": {
      "name": "python"
    },
    "widgets": {
      "application/vnd.jupyter.widget-state+json": {
        "026e76ffd51f47659f7cf0baebc95604": {
          "model_module": "@jupyter-widgets/base",
          "model_module_version": "1.2.0",
          "model_name": "LayoutModel",
          "state": {
            "_model_module": "@jupyter-widgets/base",
            "_model_module_version": "1.2.0",
            "_model_name": "LayoutModel",
            "_view_count": null,
            "_view_module": "@jupyter-widgets/base",
            "_view_module_version": "1.2.0",
            "_view_name": "LayoutView",
            "align_content": null,
            "align_items": null,
            "align_self": null,
            "border": null,
            "bottom": null,
            "display": null,
            "flex": null,
            "flex_flow": null,
            "grid_area": null,
            "grid_auto_columns": null,
            "grid_auto_flow": null,
            "grid_auto_rows": null,
            "grid_column": null,
            "grid_gap": null,
            "grid_row": null,
            "grid_template_areas": null,
            "grid_template_columns": null,
            "grid_template_rows": null,
            "height": null,
            "justify_content": null,
            "justify_items": null,
            "left": null,
            "margin": null,
            "max_height": null,
            "max_width": null,
            "min_height": null,
            "min_width": null,
            "object_fit": null,
            "object_position": null,
            "order": null,
            "overflow": null,
            "overflow_x": null,
            "overflow_y": null,
            "padding": null,
            "right": null,
            "top": null,
            "visibility": null,
            "width": null
          }
        },
        "02770eb5c9054aa8a4f60e3b35fbe27d": {
          "model_module": "@jupyter-widgets/controls",
          "model_module_version": "1.5.0",
          "model_name": "HBoxModel",
          "state": {
            "_dom_classes": [],
            "_model_module": "@jupyter-widgets/controls",
            "_model_module_version": "1.5.0",
            "_model_name": "HBoxModel",
            "_view_count": null,
            "_view_module": "@jupyter-widgets/controls",
            "_view_module_version": "1.5.0",
            "_view_name": "HBoxView",
            "box_style": "",
            "children": [
              "IPY_MODEL_3ba7cd345abb4b198785f7b972c2b8f0",
              "IPY_MODEL_64a632aa27414ba49d04cac6599d46fc",
              "IPY_MODEL_071e089e3f914fd5a2264437908f782a"
            ],
            "layout": "IPY_MODEL_7d8761b683ad4125b6a66178b2d3b02e"
          }
        },
        "071e089e3f914fd5a2264437908f782a": {
          "model_module": "@jupyter-widgets/controls",
          "model_module_version": "1.5.0",
          "model_name": "HTMLModel",
          "state": {
            "_dom_classes": [],
            "_model_module": "@jupyter-widgets/controls",
            "_model_module_version": "1.5.0",
            "_model_name": "HTMLModel",
            "_view_count": null,
            "_view_module": "@jupyter-widgets/controls",
            "_view_module_version": "1.5.0",
            "_view_name": "HTMLView",
            "description": "",
            "description_tooltip": null,
            "layout": "IPY_MODEL_f0d137d9c2c844ba80c3c96fc4bd7a77",
            "placeholder": "​",
            "style": "IPY_MODEL_fcd00bad340f457893d4af1951433d71",
            "value": " 1/1 [00:00&lt;00:00, 106.94it/s]"
          }
        },
        "08221763c66042b0b324ff33a41bd71e": {
          "model_module": "@jupyter-widgets/base",
          "model_module_version": "1.2.0",
          "model_name": "LayoutModel",
          "state": {
            "_model_module": "@jupyter-widgets/base",
            "_model_module_version": "1.2.0",
            "_model_name": "LayoutModel",
            "_view_count": null,
            "_view_module": "@jupyter-widgets/base",
            "_view_module_version": "1.2.0",
            "_view_name": "LayoutView",
            "align_content": null,
            "align_items": null,
            "align_self": null,
            "border": null,
            "bottom": null,
            "display": null,
            "flex": null,
            "flex_flow": null,
            "grid_area": null,
            "grid_auto_columns": null,
            "grid_auto_flow": null,
            "grid_auto_rows": null,
            "grid_column": null,
            "grid_gap": null,
            "grid_row": null,
            "grid_template_areas": null,
            "grid_template_columns": null,
            "grid_template_rows": null,
            "height": null,
            "justify_content": null,
            "justify_items": null,
            "left": null,
            "margin": null,
            "max_height": null,
            "max_width": null,
            "min_height": null,
            "min_width": null,
            "object_fit": null,
            "object_position": null,
            "order": null,
            "overflow": null,
            "overflow_x": null,
            "overflow_y": null,
            "padding": null,
            "right": null,
            "top": null,
            "visibility": null,
            "width": null
          }
        },
        "12c974d13e1647e699a0599ccd35ccbc": {
          "model_module": "@jupyter-widgets/controls",
          "model_module_version": "1.5.0",
          "model_name": "DescriptionStyleModel",
          "state": {
            "_model_module": "@jupyter-widgets/controls",
            "_model_module_version": "1.5.0",
            "_model_name": "DescriptionStyleModel",
            "_view_count": null,
            "_view_module": "@jupyter-widgets/base",
            "_view_module_version": "1.2.0",
            "_view_name": "StyleView",
            "description_width": ""
          }
        },
        "16e052c096234664b992f9770ea9fcf3": {
          "model_module": "@jupyter-widgets/controls",
          "model_module_version": "1.5.0",
          "model_name": "FloatProgressModel",
          "state": {
            "_dom_classes": [],
            "_model_module": "@jupyter-widgets/controls",
            "_model_module_version": "1.5.0",
            "_model_name": "FloatProgressModel",
            "_view_count": null,
            "_view_module": "@jupyter-widgets/controls",
            "_view_module_version": "1.5.0",
            "_view_name": "ProgressView",
            "bar_style": "success",
            "description": "",
            "description_tooltip": null,
            "layout": "IPY_MODEL_08221763c66042b0b324ff33a41bd71e",
            "max": 1,
            "min": 0,
            "orientation": "horizontal",
            "style": "IPY_MODEL_412ea0ca2dd24269a764bd6a981c5ce4",
            "value": 1
          }
        },
        "1e6ab9315ac147b2b857a18d45ec9fb9": {
          "model_module": "@jupyter-widgets/base",
          "model_module_version": "1.2.0",
          "model_name": "LayoutModel",
          "state": {
            "_model_module": "@jupyter-widgets/base",
            "_model_module_version": "1.2.0",
            "_model_name": "LayoutModel",
            "_view_count": null,
            "_view_module": "@jupyter-widgets/base",
            "_view_module_version": "1.2.0",
            "_view_name": "LayoutView",
            "align_content": null,
            "align_items": null,
            "align_self": null,
            "border": null,
            "bottom": null,
            "display": null,
            "flex": null,
            "flex_flow": null,
            "grid_area": null,
            "grid_auto_columns": null,
            "grid_auto_flow": null,
            "grid_auto_rows": null,
            "grid_column": null,
            "grid_gap": null,
            "grid_row": null,
            "grid_template_areas": null,
            "grid_template_columns": null,
            "grid_template_rows": null,
            "height": null,
            "justify_content": null,
            "justify_items": null,
            "left": null,
            "margin": null,
            "max_height": null,
            "max_width": null,
            "min_height": null,
            "min_width": null,
            "object_fit": null,
            "object_position": null,
            "order": null,
            "overflow": null,
            "overflow_x": null,
            "overflow_y": null,
            "padding": null,
            "right": null,
            "top": null,
            "visibility": null,
            "width": null
          }
        },
        "20bf3f0baa0a493ab648adf2b63fccec": {
          "model_module": "@jupyter-widgets/base",
          "model_module_version": "1.2.0",
          "model_name": "LayoutModel",
          "state": {
            "_model_module": "@jupyter-widgets/base",
            "_model_module_version": "1.2.0",
            "_model_name": "LayoutModel",
            "_view_count": null,
            "_view_module": "@jupyter-widgets/base",
            "_view_module_version": "1.2.0",
            "_view_name": "LayoutView",
            "align_content": null,
            "align_items": null,
            "align_self": null,
            "border": null,
            "bottom": null,
            "display": null,
            "flex": null,
            "flex_flow": null,
            "grid_area": null,
            "grid_auto_columns": null,
            "grid_auto_flow": null,
            "grid_auto_rows": null,
            "grid_column": null,
            "grid_gap": null,
            "grid_row": null,
            "grid_template_areas": null,
            "grid_template_columns": null,
            "grid_template_rows": null,
            "height": null,
            "justify_content": null,
            "justify_items": null,
            "left": null,
            "margin": null,
            "max_height": null,
            "max_width": null,
            "min_height": null,
            "min_width": null,
            "object_fit": null,
            "object_position": null,
            "order": null,
            "overflow": null,
            "overflow_x": null,
            "overflow_y": null,
            "padding": null,
            "right": null,
            "top": null,
            "visibility": null,
            "width": null
          }
        },
        "2ced3e87728a4460bad857c92f0d2b7b": {
          "model_module": "@jupyter-widgets/base",
          "model_module_version": "1.2.0",
          "model_name": "LayoutModel",
          "state": {
            "_model_module": "@jupyter-widgets/base",
            "_model_module_version": "1.2.0",
            "_model_name": "LayoutModel",
            "_view_count": null,
            "_view_module": "@jupyter-widgets/base",
            "_view_module_version": "1.2.0",
            "_view_name": "LayoutView",
            "align_content": null,
            "align_items": null,
            "align_self": null,
            "border": null,
            "bottom": null,
            "display": null,
            "flex": null,
            "flex_flow": null,
            "grid_area": null,
            "grid_auto_columns": null,
            "grid_auto_flow": null,
            "grid_auto_rows": null,
            "grid_column": null,
            "grid_gap": null,
            "grid_row": null,
            "grid_template_areas": null,
            "grid_template_columns": null,
            "grid_template_rows": null,
            "height": null,
            "justify_content": null,
            "justify_items": null,
            "left": null,
            "margin": null,
            "max_height": null,
            "max_width": null,
            "min_height": null,
            "min_width": null,
            "object_fit": null,
            "object_position": null,
            "order": null,
            "overflow": null,
            "overflow_x": null,
            "overflow_y": null,
            "padding": null,
            "right": null,
            "top": null,
            "visibility": null,
            "width": null
          }
        },
        "3ba7cd345abb4b198785f7b972c2b8f0": {
          "model_module": "@jupyter-widgets/controls",
          "model_module_version": "1.5.0",
          "model_name": "HTMLModel",
          "state": {
            "_dom_classes": [],
            "_model_module": "@jupyter-widgets/controls",
            "_model_module_version": "1.5.0",
            "_model_name": "HTMLModel",
            "_view_count": null,
            "_view_module": "@jupyter-widgets/controls",
            "_view_module_version": "1.5.0",
            "_view_name": "HTMLView",
            "description": "",
            "description_tooltip": null,
            "layout": "IPY_MODEL_df9380fdf5c440f4a9b168b913b8c518",
            "placeholder": "​",
            "style": "IPY_MODEL_12c974d13e1647e699a0599ccd35ccbc",
            "value": "Fetching 1 files: 100%"
          }
        },
        "3dcdb73fb420482ea07cdf7cc1cd3a28": {
          "model_module": "@jupyter-widgets/controls",
          "model_module_version": "1.5.0",
          "model_name": "HTMLModel",
          "state": {
            "_dom_classes": [],
            "_model_module": "@jupyter-widgets/controls",
            "_model_module_version": "1.5.0",
            "_model_name": "HTMLModel",
            "_view_count": null,
            "_view_module": "@jupyter-widgets/controls",
            "_view_module_version": "1.5.0",
            "_view_name": "HTMLView",
            "description": "",
            "description_tooltip": null,
            "layout": "IPY_MODEL_496f9dc65c5f4e6b8e0495a1932b3ae6",
            "placeholder": "​",
            "style": "IPY_MODEL_bce4347b23cf42058a2d9f14244832a7",
            "value": "Fetching 1 files: 100%"
          }
        },
        "3e62c82040e646ea92be4fe161395aed": {
          "model_module": "@jupyter-widgets/controls",
          "model_module_version": "1.5.0",
          "model_name": "HTMLModel",
          "state": {
            "_dom_classes": [],
            "_model_module": "@jupyter-widgets/controls",
            "_model_module_version": "1.5.0",
            "_model_name": "HTMLModel",
            "_view_count": null,
            "_view_module": "@jupyter-widgets/controls",
            "_view_module_version": "1.5.0",
            "_view_name": "HTMLView",
            "description": "",
            "description_tooltip": null,
            "layout": "IPY_MODEL_ffd7641046ea40da80a26c0cdf48c0de",
            "placeholder": "​",
            "style": "IPY_MODEL_92c3f880efc64b61a88343677a8c81e4",
            "value": "Fetching 1 files: 100%"
          }
        },
        "412ea0ca2dd24269a764bd6a981c5ce4": {
          "model_module": "@jupyter-widgets/controls",
          "model_module_version": "1.5.0",
          "model_name": "ProgressStyleModel",
          "state": {
            "_model_module": "@jupyter-widgets/controls",
            "_model_module_version": "1.5.0",
            "_model_name": "ProgressStyleModel",
            "_view_count": null,
            "_view_module": "@jupyter-widgets/base",
            "_view_module_version": "1.2.0",
            "_view_name": "StyleView",
            "bar_color": null,
            "description_width": ""
          }
        },
        "42bcf5ae9b6443a7a6f34905a799d474": {
          "model_module": "@jupyter-widgets/controls",
          "model_module_version": "1.5.0",
          "model_name": "HBoxModel",
          "state": {
            "_dom_classes": [],
            "_model_module": "@jupyter-widgets/controls",
            "_model_module_version": "1.5.0",
            "_model_name": "HBoxModel",
            "_view_count": null,
            "_view_module": "@jupyter-widgets/controls",
            "_view_module_version": "1.5.0",
            "_view_name": "HBoxView",
            "box_style": "",
            "children": [
              "IPY_MODEL_f4a065556a5640868f3c214588a43849",
              "IPY_MODEL_a337e04629d9486299ed7af681043ca6",
              "IPY_MODEL_ddb84d7904504bf98f443e5caa840229"
            ],
            "layout": "IPY_MODEL_742eafa35233405f89859585f4dcc2f5"
          }
        },
        "496f9dc65c5f4e6b8e0495a1932b3ae6": {
          "model_module": "@jupyter-widgets/base",
          "model_module_version": "1.2.0",
          "model_name": "LayoutModel",
          "state": {
            "_model_module": "@jupyter-widgets/base",
            "_model_module_version": "1.2.0",
            "_model_name": "LayoutModel",
            "_view_count": null,
            "_view_module": "@jupyter-widgets/base",
            "_view_module_version": "1.2.0",
            "_view_name": "LayoutView",
            "align_content": null,
            "align_items": null,
            "align_self": null,
            "border": null,
            "bottom": null,
            "display": null,
            "flex": null,
            "flex_flow": null,
            "grid_area": null,
            "grid_auto_columns": null,
            "grid_auto_flow": null,
            "grid_auto_rows": null,
            "grid_column": null,
            "grid_gap": null,
            "grid_row": null,
            "grid_template_areas": null,
            "grid_template_columns": null,
            "grid_template_rows": null,
            "height": null,
            "justify_content": null,
            "justify_items": null,
            "left": null,
            "margin": null,
            "max_height": null,
            "max_width": null,
            "min_height": null,
            "min_width": null,
            "object_fit": null,
            "object_position": null,
            "order": null,
            "overflow": null,
            "overflow_x": null,
            "overflow_y": null,
            "padding": null,
            "right": null,
            "top": null,
            "visibility": null,
            "width": null
          }
        },
        "4a329efd7a194baf908d1a817589ba4d": {
          "model_module": "@jupyter-widgets/controls",
          "model_module_version": "1.5.0",
          "model_name": "FloatProgressModel",
          "state": {
            "_dom_classes": [],
            "_model_module": "@jupyter-widgets/controls",
            "_model_module_version": "1.5.0",
            "_model_name": "FloatProgressModel",
            "_view_count": null,
            "_view_module": "@jupyter-widgets/controls",
            "_view_module_version": "1.5.0",
            "_view_name": "ProgressView",
            "bar_style": "success",
            "description": "",
            "description_tooltip": null,
            "layout": "IPY_MODEL_713c3691c21b4d509a23177bed6f2db2",
            "max": 1,
            "min": 0,
            "orientation": "horizontal",
            "style": "IPY_MODEL_aba981cb80584291ac6653a24c559df4",
            "value": 1
          }
        },
        "4fea31813bf647138032219b5fb2a6f2": {
          "model_module": "@jupyter-widgets/controls",
          "model_module_version": "1.5.0",
          "model_name": "DescriptionStyleModel",
          "state": {
            "_model_module": "@jupyter-widgets/controls",
            "_model_module_version": "1.5.0",
            "_model_name": "DescriptionStyleModel",
            "_view_count": null,
            "_view_module": "@jupyter-widgets/base",
            "_view_module_version": "1.2.0",
            "_view_name": "StyleView",
            "description_width": ""
          }
        },
        "59e0a501e9614f81bd1e78191624032f": {
          "model_module": "@jupyter-widgets/base",
          "model_module_version": "1.2.0",
          "model_name": "LayoutModel",
          "state": {
            "_model_module": "@jupyter-widgets/base",
            "_model_module_version": "1.2.0",
            "_model_name": "LayoutModel",
            "_view_count": null,
            "_view_module": "@jupyter-widgets/base",
            "_view_module_version": "1.2.0",
            "_view_name": "LayoutView",
            "align_content": null,
            "align_items": null,
            "align_self": null,
            "border": null,
            "bottom": null,
            "display": null,
            "flex": null,
            "flex_flow": null,
            "grid_area": null,
            "grid_auto_columns": null,
            "grid_auto_flow": null,
            "grid_auto_rows": null,
            "grid_column": null,
            "grid_gap": null,
            "grid_row": null,
            "grid_template_areas": null,
            "grid_template_columns": null,
            "grid_template_rows": null,
            "height": null,
            "justify_content": null,
            "justify_items": null,
            "left": null,
            "margin": null,
            "max_height": null,
            "max_width": null,
            "min_height": null,
            "min_width": null,
            "object_fit": null,
            "object_position": null,
            "order": null,
            "overflow": null,
            "overflow_x": null,
            "overflow_y": null,
            "padding": null,
            "right": null,
            "top": null,
            "visibility": null,
            "width": null
          }
        },
        "5ce02a98e4db49faab3a7dae95aeae98": {
          "model_module": "@jupyter-widgets/controls",
          "model_module_version": "1.5.0",
          "model_name": "ProgressStyleModel",
          "state": {
            "_model_module": "@jupyter-widgets/controls",
            "_model_module_version": "1.5.0",
            "_model_name": "ProgressStyleModel",
            "_view_count": null,
            "_view_module": "@jupyter-widgets/base",
            "_view_module_version": "1.2.0",
            "_view_name": "StyleView",
            "bar_color": null,
            "description_width": ""
          }
        },
        "64a632aa27414ba49d04cac6599d46fc": {
          "model_module": "@jupyter-widgets/controls",
          "model_module_version": "1.5.0",
          "model_name": "FloatProgressModel",
          "state": {
            "_dom_classes": [],
            "_model_module": "@jupyter-widgets/controls",
            "_model_module_version": "1.5.0",
            "_model_name": "FloatProgressModel",
            "_view_count": null,
            "_view_module": "@jupyter-widgets/controls",
            "_view_module_version": "1.5.0",
            "_view_name": "ProgressView",
            "bar_style": "success",
            "description": "",
            "description_tooltip": null,
            "layout": "IPY_MODEL_d17ec385e0b14b068c08d0c44ce23e9d",
            "max": 1,
            "min": 0,
            "orientation": "horizontal",
            "style": "IPY_MODEL_d02fb521a17748c09307aabe803b6daa",
            "value": 1
          }
        },
        "6ae3373d6ffe4ee28b3344334f1dccd6": {
          "model_module": "@jupyter-widgets/controls",
          "model_module_version": "1.5.0",
          "model_name": "HTMLModel",
          "state": {
            "_dom_classes": [],
            "_model_module": "@jupyter-widgets/controls",
            "_model_module_version": "1.5.0",
            "_model_name": "HTMLModel",
            "_view_count": null,
            "_view_module": "@jupyter-widgets/controls",
            "_view_module_version": "1.5.0",
            "_view_name": "HTMLView",
            "description": "",
            "description_tooltip": null,
            "layout": "IPY_MODEL_720997014bd345f9832207e4107b7adb",
            "placeholder": "​",
            "style": "IPY_MODEL_fecdbf62ddc34be08d8899d6e3ec61d5",
            "value": " 1/1 [00:00&lt;00:00, 140.11it/s]"
          }
        },
        "6c63d9ba359d4f4dac9225d6b69f40bb": {
          "model_module": "@jupyter-widgets/controls",
          "model_module_version": "1.5.0",
          "model_name": "HBoxModel",
          "state": {
            "_dom_classes": [],
            "_model_module": "@jupyter-widgets/controls",
            "_model_module_version": "1.5.0",
            "_model_name": "HBoxModel",
            "_view_count": null,
            "_view_module": "@jupyter-widgets/controls",
            "_view_module_version": "1.5.0",
            "_view_name": "HBoxView",
            "box_style": "",
            "children": [
              "IPY_MODEL_3dcdb73fb420482ea07cdf7cc1cd3a28",
              "IPY_MODEL_aa5de7f91f1c46ed9685eb95ccdade59",
              "IPY_MODEL_6ae3373d6ffe4ee28b3344334f1dccd6"
            ],
            "layout": "IPY_MODEL_c854bddfef6743d0af24e076d54050f1"
          }
        },
        "713c3691c21b4d509a23177bed6f2db2": {
          "model_module": "@jupyter-widgets/base",
          "model_module_version": "1.2.0",
          "model_name": "LayoutModel",
          "state": {
            "_model_module": "@jupyter-widgets/base",
            "_model_module_version": "1.2.0",
            "_model_name": "LayoutModel",
            "_view_count": null,
            "_view_module": "@jupyter-widgets/base",
            "_view_module_version": "1.2.0",
            "_view_name": "LayoutView",
            "align_content": null,
            "align_items": null,
            "align_self": null,
            "border": null,
            "bottom": null,
            "display": null,
            "flex": null,
            "flex_flow": null,
            "grid_area": null,
            "grid_auto_columns": null,
            "grid_auto_flow": null,
            "grid_auto_rows": null,
            "grid_column": null,
            "grid_gap": null,
            "grid_row": null,
            "grid_template_areas": null,
            "grid_template_columns": null,
            "grid_template_rows": null,
            "height": null,
            "justify_content": null,
            "justify_items": null,
            "left": null,
            "margin": null,
            "max_height": null,
            "max_width": null,
            "min_height": null,
            "min_width": null,
            "object_fit": null,
            "object_position": null,
            "order": null,
            "overflow": null,
            "overflow_x": null,
            "overflow_y": null,
            "padding": null,
            "right": null,
            "top": null,
            "visibility": null,
            "width": null
          }
        },
        "720997014bd345f9832207e4107b7adb": {
          "model_module": "@jupyter-widgets/base",
          "model_module_version": "1.2.0",
          "model_name": "LayoutModel",
          "state": {
            "_model_module": "@jupyter-widgets/base",
            "_model_module_version": "1.2.0",
            "_model_name": "LayoutModel",
            "_view_count": null,
            "_view_module": "@jupyter-widgets/base",
            "_view_module_version": "1.2.0",
            "_view_name": "LayoutView",
            "align_content": null,
            "align_items": null,
            "align_self": null,
            "border": null,
            "bottom": null,
            "display": null,
            "flex": null,
            "flex_flow": null,
            "grid_area": null,
            "grid_auto_columns": null,
            "grid_auto_flow": null,
            "grid_auto_rows": null,
            "grid_column": null,
            "grid_gap": null,
            "grid_row": null,
            "grid_template_areas": null,
            "grid_template_columns": null,
            "grid_template_rows": null,
            "height": null,
            "justify_content": null,
            "justify_items": null,
            "left": null,
            "margin": null,
            "max_height": null,
            "max_width": null,
            "min_height": null,
            "min_width": null,
            "object_fit": null,
            "object_position": null,
            "order": null,
            "overflow": null,
            "overflow_x": null,
            "overflow_y": null,
            "padding": null,
            "right": null,
            "top": null,
            "visibility": null,
            "width": null
          }
        },
        "742eafa35233405f89859585f4dcc2f5": {
          "model_module": "@jupyter-widgets/base",
          "model_module_version": "1.2.0",
          "model_name": "LayoutModel",
          "state": {
            "_model_module": "@jupyter-widgets/base",
            "_model_module_version": "1.2.0",
            "_model_name": "LayoutModel",
            "_view_count": null,
            "_view_module": "@jupyter-widgets/base",
            "_view_module_version": "1.2.0",
            "_view_name": "LayoutView",
            "align_content": null,
            "align_items": null,
            "align_self": null,
            "border": null,
            "bottom": null,
            "display": null,
            "flex": null,
            "flex_flow": null,
            "grid_area": null,
            "grid_auto_columns": null,
            "grid_auto_flow": null,
            "grid_auto_rows": null,
            "grid_column": null,
            "grid_gap": null,
            "grid_row": null,
            "grid_template_areas": null,
            "grid_template_columns": null,
            "grid_template_rows": null,
            "height": null,
            "justify_content": null,
            "justify_items": null,
            "left": null,
            "margin": null,
            "max_height": null,
            "max_width": null,
            "min_height": null,
            "min_width": null,
            "object_fit": null,
            "object_position": null,
            "order": null,
            "overflow": null,
            "overflow_x": null,
            "overflow_y": null,
            "padding": null,
            "right": null,
            "top": null,
            "visibility": null,
            "width": null
          }
        },
        "76de166dda6945eab6c0ea1c331e3495": {
          "model_module": "@jupyter-widgets/base",
          "model_module_version": "1.2.0",
          "model_name": "LayoutModel",
          "state": {
            "_model_module": "@jupyter-widgets/base",
            "_model_module_version": "1.2.0",
            "_model_name": "LayoutModel",
            "_view_count": null,
            "_view_module": "@jupyter-widgets/base",
            "_view_module_version": "1.2.0",
            "_view_name": "LayoutView",
            "align_content": null,
            "align_items": null,
            "align_self": null,
            "border": null,
            "bottom": null,
            "display": null,
            "flex": null,
            "flex_flow": null,
            "grid_area": null,
            "grid_auto_columns": null,
            "grid_auto_flow": null,
            "grid_auto_rows": null,
            "grid_column": null,
            "grid_gap": null,
            "grid_row": null,
            "grid_template_areas": null,
            "grid_template_columns": null,
            "grid_template_rows": null,
            "height": null,
            "justify_content": null,
            "justify_items": null,
            "left": null,
            "margin": null,
            "max_height": null,
            "max_width": null,
            "min_height": null,
            "min_width": null,
            "object_fit": null,
            "object_position": null,
            "order": null,
            "overflow": null,
            "overflow_x": null,
            "overflow_y": null,
            "padding": null,
            "right": null,
            "top": null,
            "visibility": null,
            "width": null
          }
        },
        "7d8761b683ad4125b6a66178b2d3b02e": {
          "model_module": "@jupyter-widgets/base",
          "model_module_version": "1.2.0",
          "model_name": "LayoutModel",
          "state": {
            "_model_module": "@jupyter-widgets/base",
            "_model_module_version": "1.2.0",
            "_model_name": "LayoutModel",
            "_view_count": null,
            "_view_module": "@jupyter-widgets/base",
            "_view_module_version": "1.2.0",
            "_view_name": "LayoutView",
            "align_content": null,
            "align_items": null,
            "align_self": null,
            "border": null,
            "bottom": null,
            "display": null,
            "flex": null,
            "flex_flow": null,
            "grid_area": null,
            "grid_auto_columns": null,
            "grid_auto_flow": null,
            "grid_auto_rows": null,
            "grid_column": null,
            "grid_gap": null,
            "grid_row": null,
            "grid_template_areas": null,
            "grid_template_columns": null,
            "grid_template_rows": null,
            "height": null,
            "justify_content": null,
            "justify_items": null,
            "left": null,
            "margin": null,
            "max_height": null,
            "max_width": null,
            "min_height": null,
            "min_width": null,
            "object_fit": null,
            "object_position": null,
            "order": null,
            "overflow": null,
            "overflow_x": null,
            "overflow_y": null,
            "padding": null,
            "right": null,
            "top": null,
            "visibility": null,
            "width": null
          }
        },
        "846525b9845c465bac8005e3dd53a8b0": {
          "model_module": "@jupyter-widgets/controls",
          "model_module_version": "1.5.0",
          "model_name": "DescriptionStyleModel",
          "state": {
            "_model_module": "@jupyter-widgets/controls",
            "_model_module_version": "1.5.0",
            "_model_name": "DescriptionStyleModel",
            "_view_count": null,
            "_view_module": "@jupyter-widgets/base",
            "_view_module_version": "1.2.0",
            "_view_name": "StyleView",
            "description_width": ""
          }
        },
        "86957e5fcfbb4e64926f51e0172dfc1e": {
          "model_module": "@jupyter-widgets/controls",
          "model_module_version": "1.5.0",
          "model_name": "ProgressStyleModel",
          "state": {
            "_model_module": "@jupyter-widgets/controls",
            "_model_module_version": "1.5.0",
            "_model_name": "ProgressStyleModel",
            "_view_count": null,
            "_view_module": "@jupyter-widgets/base",
            "_view_module_version": "1.2.0",
            "_view_name": "StyleView",
            "bar_color": null,
            "description_width": ""
          }
        },
        "8b0f621c50e44508970e85f1cdbdf288": {
          "model_module": "@jupyter-widgets/controls",
          "model_module_version": "1.5.0",
          "model_name": "HTMLModel",
          "state": {
            "_dom_classes": [],
            "_model_module": "@jupyter-widgets/controls",
            "_model_module_version": "1.5.0",
            "_model_name": "HTMLModel",
            "_view_count": null,
            "_view_module": "@jupyter-widgets/controls",
            "_view_module_version": "1.5.0",
            "_view_name": "HTMLView",
            "description": "",
            "description_tooltip": null,
            "layout": "IPY_MODEL_b752793505724cdea0b84331892be0e6",
            "placeholder": "​",
            "style": "IPY_MODEL_4fea31813bf647138032219b5fb2a6f2",
            "value": " 1/1 [00:00&lt;00:00, 125.53it/s]"
          }
        },
        "8c1b96b238844cff8b051071f7adadbd": {
          "model_module": "@jupyter-widgets/base",
          "model_module_version": "1.2.0",
          "model_name": "LayoutModel",
          "state": {
            "_model_module": "@jupyter-widgets/base",
            "_model_module_version": "1.2.0",
            "_model_name": "LayoutModel",
            "_view_count": null,
            "_view_module": "@jupyter-widgets/base",
            "_view_module_version": "1.2.0",
            "_view_name": "LayoutView",
            "align_content": null,
            "align_items": null,
            "align_self": null,
            "border": null,
            "bottom": null,
            "display": null,
            "flex": null,
            "flex_flow": null,
            "grid_area": null,
            "grid_auto_columns": null,
            "grid_auto_flow": null,
            "grid_auto_rows": null,
            "grid_column": null,
            "grid_gap": null,
            "grid_row": null,
            "grid_template_areas": null,
            "grid_template_columns": null,
            "grid_template_rows": null,
            "height": null,
            "justify_content": null,
            "justify_items": null,
            "left": null,
            "margin": null,
            "max_height": null,
            "max_width": null,
            "min_height": null,
            "min_width": null,
            "object_fit": null,
            "object_position": null,
            "order": null,
            "overflow": null,
            "overflow_x": null,
            "overflow_y": null,
            "padding": null,
            "right": null,
            "top": null,
            "visibility": null,
            "width": null
          }
        },
        "904cbfabe9bf4582ad82d35acfdf7b7f": {
          "model_module": "@jupyter-widgets/controls",
          "model_module_version": "1.5.0",
          "model_name": "HBoxModel",
          "state": {
            "_dom_classes": [],
            "_model_module": "@jupyter-widgets/controls",
            "_model_module_version": "1.5.0",
            "_model_name": "HBoxModel",
            "_view_count": null,
            "_view_module": "@jupyter-widgets/controls",
            "_view_module_version": "1.5.0",
            "_view_name": "HBoxView",
            "box_style": "",
            "children": [
              "IPY_MODEL_f766716a251740679bfaa64a62f731ec",
              "IPY_MODEL_16e052c096234664b992f9770ea9fcf3",
              "IPY_MODEL_f519b9bddd334ea389c55b9a36f9afe1"
            ],
            "layout": "IPY_MODEL_bd35cedb613f4564933374cbfc6abfbf"
          }
        },
        "9096be7e058546d7a26fb8876504339b": {
          "model_module": "@jupyter-widgets/controls",
          "model_module_version": "1.5.0",
          "model_name": "DescriptionStyleModel",
          "state": {
            "_model_module": "@jupyter-widgets/controls",
            "_model_module_version": "1.5.0",
            "_model_name": "DescriptionStyleModel",
            "_view_count": null,
            "_view_module": "@jupyter-widgets/base",
            "_view_module_version": "1.2.0",
            "_view_name": "StyleView",
            "description_width": ""
          }
        },
        "92c3f880efc64b61a88343677a8c81e4": {
          "model_module": "@jupyter-widgets/controls",
          "model_module_version": "1.5.0",
          "model_name": "DescriptionStyleModel",
          "state": {
            "_model_module": "@jupyter-widgets/controls",
            "_model_module_version": "1.5.0",
            "_model_name": "DescriptionStyleModel",
            "_view_count": null,
            "_view_module": "@jupyter-widgets/base",
            "_view_module_version": "1.2.0",
            "_view_name": "StyleView",
            "description_width": ""
          }
        },
        "9e024cfde4184ae18e7b6943bb8d385f": {
          "model_module": "@jupyter-widgets/base",
          "model_module_version": "1.2.0",
          "model_name": "LayoutModel",
          "state": {
            "_model_module": "@jupyter-widgets/base",
            "_model_module_version": "1.2.0",
            "_model_name": "LayoutModel",
            "_view_count": null,
            "_view_module": "@jupyter-widgets/base",
            "_view_module_version": "1.2.0",
            "_view_name": "LayoutView",
            "align_content": null,
            "align_items": null,
            "align_self": null,
            "border": null,
            "bottom": null,
            "display": null,
            "flex": null,
            "flex_flow": null,
            "grid_area": null,
            "grid_auto_columns": null,
            "grid_auto_flow": null,
            "grid_auto_rows": null,
            "grid_column": null,
            "grid_gap": null,
            "grid_row": null,
            "grid_template_areas": null,
            "grid_template_columns": null,
            "grid_template_rows": null,
            "height": null,
            "justify_content": null,
            "justify_items": null,
            "left": null,
            "margin": null,
            "max_height": null,
            "max_width": null,
            "min_height": null,
            "min_width": null,
            "object_fit": null,
            "object_position": null,
            "order": null,
            "overflow": null,
            "overflow_x": null,
            "overflow_y": null,
            "padding": null,
            "right": null,
            "top": null,
            "visibility": null,
            "width": null
          }
        },
        "a15d3123b65d40bc849fd24e991aa19d": {
          "model_module": "@jupyter-widgets/controls",
          "model_module_version": "1.5.0",
          "model_name": "HTMLModel",
          "state": {
            "_dom_classes": [],
            "_model_module": "@jupyter-widgets/controls",
            "_model_module_version": "1.5.0",
            "_model_name": "HTMLModel",
            "_view_count": null,
            "_view_module": "@jupyter-widgets/controls",
            "_view_module_version": "1.5.0",
            "_view_name": "HTMLView",
            "description": "",
            "description_tooltip": null,
            "layout": "IPY_MODEL_20bf3f0baa0a493ab648adf2b63fccec",
            "placeholder": "​",
            "style": "IPY_MODEL_e4651e4a7f88416caad89d75321e8ae6",
            "value": " 1/1 [00:00&lt;00:00, 133.17it/s]"
          }
        },
        "a337e04629d9486299ed7af681043ca6": {
          "model_module": "@jupyter-widgets/controls",
          "model_module_version": "1.5.0",
          "model_name": "FloatProgressModel",
          "state": {
            "_dom_classes": [],
            "_model_module": "@jupyter-widgets/controls",
            "_model_module_version": "1.5.0",
            "_model_name": "FloatProgressModel",
            "_view_count": null,
            "_view_module": "@jupyter-widgets/controls",
            "_view_module_version": "1.5.0",
            "_view_name": "ProgressView",
            "bar_style": "success",
            "description": "",
            "description_tooltip": null,
            "layout": "IPY_MODEL_1e6ab9315ac147b2b857a18d45ec9fb9",
            "max": 1,
            "min": 0,
            "orientation": "horizontal",
            "style": "IPY_MODEL_86957e5fcfbb4e64926f51e0172dfc1e",
            "value": 1
          }
        },
        "aa5de7f91f1c46ed9685eb95ccdade59": {
          "model_module": "@jupyter-widgets/controls",
          "model_module_version": "1.5.0",
          "model_name": "FloatProgressModel",
          "state": {
            "_dom_classes": [],
            "_model_module": "@jupyter-widgets/controls",
            "_model_module_version": "1.5.0",
            "_model_name": "FloatProgressModel",
            "_view_count": null,
            "_view_module": "@jupyter-widgets/controls",
            "_view_module_version": "1.5.0",
            "_view_name": "ProgressView",
            "bar_style": "success",
            "description": "",
            "description_tooltip": null,
            "layout": "IPY_MODEL_d89cdbdd58af46aba58df399b0e4a9f9",
            "max": 1,
            "min": 0,
            "orientation": "horizontal",
            "style": "IPY_MODEL_5ce02a98e4db49faab3a7dae95aeae98",
            "value": 1
          }
        },
        "aba981cb80584291ac6653a24c559df4": {
          "model_module": "@jupyter-widgets/controls",
          "model_module_version": "1.5.0",
          "model_name": "ProgressStyleModel",
          "state": {
            "_model_module": "@jupyter-widgets/controls",
            "_model_module_version": "1.5.0",
            "_model_name": "ProgressStyleModel",
            "_view_count": null,
            "_view_module": "@jupyter-widgets/base",
            "_view_module_version": "1.2.0",
            "_view_name": "StyleView",
            "bar_color": null,
            "description_width": ""
          }
        },
        "b752793505724cdea0b84331892be0e6": {
          "model_module": "@jupyter-widgets/base",
          "model_module_version": "1.2.0",
          "model_name": "LayoutModel",
          "state": {
            "_model_module": "@jupyter-widgets/base",
            "_model_module_version": "1.2.0",
            "_model_name": "LayoutModel",
            "_view_count": null,
            "_view_module": "@jupyter-widgets/base",
            "_view_module_version": "1.2.0",
            "_view_name": "LayoutView",
            "align_content": null,
            "align_items": null,
            "align_self": null,
            "border": null,
            "bottom": null,
            "display": null,
            "flex": null,
            "flex_flow": null,
            "grid_area": null,
            "grid_auto_columns": null,
            "grid_auto_flow": null,
            "grid_auto_rows": null,
            "grid_column": null,
            "grid_gap": null,
            "grid_row": null,
            "grid_template_areas": null,
            "grid_template_columns": null,
            "grid_template_rows": null,
            "height": null,
            "justify_content": null,
            "justify_items": null,
            "left": null,
            "margin": null,
            "max_height": null,
            "max_width": null,
            "min_height": null,
            "min_width": null,
            "object_fit": null,
            "object_position": null,
            "order": null,
            "overflow": null,
            "overflow_x": null,
            "overflow_y": null,
            "padding": null,
            "right": null,
            "top": null,
            "visibility": null,
            "width": null
          }
        },
        "b9877a4e62df45b59b78ddf78c8a8685": {
          "model_module": "@jupyter-widgets/base",
          "model_module_version": "1.2.0",
          "model_name": "LayoutModel",
          "state": {
            "_model_module": "@jupyter-widgets/base",
            "_model_module_version": "1.2.0",
            "_model_name": "LayoutModel",
            "_view_count": null,
            "_view_module": "@jupyter-widgets/base",
            "_view_module_version": "1.2.0",
            "_view_name": "LayoutView",
            "align_content": null,
            "align_items": null,
            "align_self": null,
            "border": null,
            "bottom": null,
            "display": null,
            "flex": null,
            "flex_flow": null,
            "grid_area": null,
            "grid_auto_columns": null,
            "grid_auto_flow": null,
            "grid_auto_rows": null,
            "grid_column": null,
            "grid_gap": null,
            "grid_row": null,
            "grid_template_areas": null,
            "grid_template_columns": null,
            "grid_template_rows": null,
            "height": null,
            "justify_content": null,
            "justify_items": null,
            "left": null,
            "margin": null,
            "max_height": null,
            "max_width": null,
            "min_height": null,
            "min_width": null,
            "object_fit": null,
            "object_position": null,
            "order": null,
            "overflow": null,
            "overflow_x": null,
            "overflow_y": null,
            "padding": null,
            "right": null,
            "top": null,
            "visibility": null,
            "width": null
          }
        },
        "bb4add4a377f4db492d6762b0724bb94": {
          "model_module": "@jupyter-widgets/controls",
          "model_module_version": "1.5.0",
          "model_name": "HBoxModel",
          "state": {
            "_dom_classes": [],
            "_model_module": "@jupyter-widgets/controls",
            "_model_module_version": "1.5.0",
            "_model_name": "HBoxModel",
            "_view_count": null,
            "_view_module": "@jupyter-widgets/controls",
            "_view_module_version": "1.5.0",
            "_view_name": "HBoxView",
            "box_style": "",
            "children": [
              "IPY_MODEL_3e62c82040e646ea92be4fe161395aed",
              "IPY_MODEL_bcd88de2ba924fdc9a5f8b31e6dc0e73",
              "IPY_MODEL_8b0f621c50e44508970e85f1cdbdf288"
            ],
            "layout": "IPY_MODEL_2ced3e87728a4460bad857c92f0d2b7b"
          }
        },
        "bcd88de2ba924fdc9a5f8b31e6dc0e73": {
          "model_module": "@jupyter-widgets/controls",
          "model_module_version": "1.5.0",
          "model_name": "FloatProgressModel",
          "state": {
            "_dom_classes": [],
            "_model_module": "@jupyter-widgets/controls",
            "_model_module_version": "1.5.0",
            "_model_name": "FloatProgressModel",
            "_view_count": null,
            "_view_module": "@jupyter-widgets/controls",
            "_view_module_version": "1.5.0",
            "_view_name": "ProgressView",
            "bar_style": "success",
            "description": "",
            "description_tooltip": null,
            "layout": "IPY_MODEL_76de166dda6945eab6c0ea1c331e3495",
            "max": 1,
            "min": 0,
            "orientation": "horizontal",
            "style": "IPY_MODEL_f48b90c9850842508bb855e30b8a0643",
            "value": 1
          }
        },
        "bce4347b23cf42058a2d9f14244832a7": {
          "model_module": "@jupyter-widgets/controls",
          "model_module_version": "1.5.0",
          "model_name": "DescriptionStyleModel",
          "state": {
            "_model_module": "@jupyter-widgets/controls",
            "_model_module_version": "1.5.0",
            "_model_name": "DescriptionStyleModel",
            "_view_count": null,
            "_view_module": "@jupyter-widgets/base",
            "_view_module_version": "1.2.0",
            "_view_name": "StyleView",
            "description_width": ""
          }
        },
        "bd35cedb613f4564933374cbfc6abfbf": {
          "model_module": "@jupyter-widgets/base",
          "model_module_version": "1.2.0",
          "model_name": "LayoutModel",
          "state": {
            "_model_module": "@jupyter-widgets/base",
            "_model_module_version": "1.2.0",
            "_model_name": "LayoutModel",
            "_view_count": null,
            "_view_module": "@jupyter-widgets/base",
            "_view_module_version": "1.2.0",
            "_view_name": "LayoutView",
            "align_content": null,
            "align_items": null,
            "align_self": null,
            "border": null,
            "bottom": null,
            "display": null,
            "flex": null,
            "flex_flow": null,
            "grid_area": null,
            "grid_auto_columns": null,
            "grid_auto_flow": null,
            "grid_auto_rows": null,
            "grid_column": null,
            "grid_gap": null,
            "grid_row": null,
            "grid_template_areas": null,
            "grid_template_columns": null,
            "grid_template_rows": null,
            "height": null,
            "justify_content": null,
            "justify_items": null,
            "left": null,
            "margin": null,
            "max_height": null,
            "max_width": null,
            "min_height": null,
            "min_width": null,
            "object_fit": null,
            "object_position": null,
            "order": null,
            "overflow": null,
            "overflow_x": null,
            "overflow_y": null,
            "padding": null,
            "right": null,
            "top": null,
            "visibility": null,
            "width": null
          }
        },
        "c854bddfef6743d0af24e076d54050f1": {
          "model_module": "@jupyter-widgets/base",
          "model_module_version": "1.2.0",
          "model_name": "LayoutModel",
          "state": {
            "_model_module": "@jupyter-widgets/base",
            "_model_module_version": "1.2.0",
            "_model_name": "LayoutModel",
            "_view_count": null,
            "_view_module": "@jupyter-widgets/base",
            "_view_module_version": "1.2.0",
            "_view_name": "LayoutView",
            "align_content": null,
            "align_items": null,
            "align_self": null,
            "border": null,
            "bottom": null,
            "display": null,
            "flex": null,
            "flex_flow": null,
            "grid_area": null,
            "grid_auto_columns": null,
            "grid_auto_flow": null,
            "grid_auto_rows": null,
            "grid_column": null,
            "grid_gap": null,
            "grid_row": null,
            "grid_template_areas": null,
            "grid_template_columns": null,
            "grid_template_rows": null,
            "height": null,
            "justify_content": null,
            "justify_items": null,
            "left": null,
            "margin": null,
            "max_height": null,
            "max_width": null,
            "min_height": null,
            "min_width": null,
            "object_fit": null,
            "object_position": null,
            "order": null,
            "overflow": null,
            "overflow_x": null,
            "overflow_y": null,
            "padding": null,
            "right": null,
            "top": null,
            "visibility": null,
            "width": null
          }
        },
        "cad482475fae44ec9f0d8730248e5a60": {
          "model_module": "@jupyter-widgets/base",
          "model_module_version": "1.2.0",
          "model_name": "LayoutModel",
          "state": {
            "_model_module": "@jupyter-widgets/base",
            "_model_module_version": "1.2.0",
            "_model_name": "LayoutModel",
            "_view_count": null,
            "_view_module": "@jupyter-widgets/base",
            "_view_module_version": "1.2.0",
            "_view_name": "LayoutView",
            "align_content": null,
            "align_items": null,
            "align_self": null,
            "border": null,
            "bottom": null,
            "display": null,
            "flex": null,
            "flex_flow": null,
            "grid_area": null,
            "grid_auto_columns": null,
            "grid_auto_flow": null,
            "grid_auto_rows": null,
            "grid_column": null,
            "grid_gap": null,
            "grid_row": null,
            "grid_template_areas": null,
            "grid_template_columns": null,
            "grid_template_rows": null,
            "height": null,
            "justify_content": null,
            "justify_items": null,
            "left": null,
            "margin": null,
            "max_height": null,
            "max_width": null,
            "min_height": null,
            "min_width": null,
            "object_fit": null,
            "object_position": null,
            "order": null,
            "overflow": null,
            "overflow_x": null,
            "overflow_y": null,
            "padding": null,
            "right": null,
            "top": null,
            "visibility": null,
            "width": null
          }
        },
        "cdd83d9ddc3c4c88b709e7660a105436": {
          "model_module": "@jupyter-widgets/controls",
          "model_module_version": "1.5.0",
          "model_name": "HTMLModel",
          "state": {
            "_dom_classes": [],
            "_model_module": "@jupyter-widgets/controls",
            "_model_module_version": "1.5.0",
            "_model_name": "HTMLModel",
            "_view_count": null,
            "_view_module": "@jupyter-widgets/controls",
            "_view_module_version": "1.5.0",
            "_view_name": "HTMLView",
            "description": "",
            "description_tooltip": null,
            "layout": "IPY_MODEL_b9877a4e62df45b59b78ddf78c8a8685",
            "placeholder": "​",
            "style": "IPY_MODEL_dcb280322036416e91b2cfe6ea6a8b80",
            "value": "Fetching 1 files: 100%"
          }
        },
        "d02fb521a17748c09307aabe803b6daa": {
          "model_module": "@jupyter-widgets/controls",
          "model_module_version": "1.5.0",
          "model_name": "ProgressStyleModel",
          "state": {
            "_model_module": "@jupyter-widgets/controls",
            "_model_module_version": "1.5.0",
            "_model_name": "ProgressStyleModel",
            "_view_count": null,
            "_view_module": "@jupyter-widgets/base",
            "_view_module_version": "1.2.0",
            "_view_name": "StyleView",
            "bar_color": null,
            "description_width": ""
          }
        },
        "d17ec385e0b14b068c08d0c44ce23e9d": {
          "model_module": "@jupyter-widgets/base",
          "model_module_version": "1.2.0",
          "model_name": "LayoutModel",
          "state": {
            "_model_module": "@jupyter-widgets/base",
            "_model_module_version": "1.2.0",
            "_model_name": "LayoutModel",
            "_view_count": null,
            "_view_module": "@jupyter-widgets/base",
            "_view_module_version": "1.2.0",
            "_view_name": "LayoutView",
            "align_content": null,
            "align_items": null,
            "align_self": null,
            "border": null,
            "bottom": null,
            "display": null,
            "flex": null,
            "flex_flow": null,
            "grid_area": null,
            "grid_auto_columns": null,
            "grid_auto_flow": null,
            "grid_auto_rows": null,
            "grid_column": null,
            "grid_gap": null,
            "grid_row": null,
            "grid_template_areas": null,
            "grid_template_columns": null,
            "grid_template_rows": null,
            "height": null,
            "justify_content": null,
            "justify_items": null,
            "left": null,
            "margin": null,
            "max_height": null,
            "max_width": null,
            "min_height": null,
            "min_width": null,
            "object_fit": null,
            "object_position": null,
            "order": null,
            "overflow": null,
            "overflow_x": null,
            "overflow_y": null,
            "padding": null,
            "right": null,
            "top": null,
            "visibility": null,
            "width": null
          }
        },
        "d6d563affebb4b20a40dc4b85e6b414e": {
          "model_module": "@jupyter-widgets/controls",
          "model_module_version": "1.5.0",
          "model_name": "DescriptionStyleModel",
          "state": {
            "_model_module": "@jupyter-widgets/controls",
            "_model_module_version": "1.5.0",
            "_model_name": "DescriptionStyleModel",
            "_view_count": null,
            "_view_module": "@jupyter-widgets/base",
            "_view_module_version": "1.2.0",
            "_view_name": "StyleView",
            "description_width": ""
          }
        },
        "d89cdbdd58af46aba58df399b0e4a9f9": {
          "model_module": "@jupyter-widgets/base",
          "model_module_version": "1.2.0",
          "model_name": "LayoutModel",
          "state": {
            "_model_module": "@jupyter-widgets/base",
            "_model_module_version": "1.2.0",
            "_model_name": "LayoutModel",
            "_view_count": null,
            "_view_module": "@jupyter-widgets/base",
            "_view_module_version": "1.2.0",
            "_view_name": "LayoutView",
            "align_content": null,
            "align_items": null,
            "align_self": null,
            "border": null,
            "bottom": null,
            "display": null,
            "flex": null,
            "flex_flow": null,
            "grid_area": null,
            "grid_auto_columns": null,
            "grid_auto_flow": null,
            "grid_auto_rows": null,
            "grid_column": null,
            "grid_gap": null,
            "grid_row": null,
            "grid_template_areas": null,
            "grid_template_columns": null,
            "grid_template_rows": null,
            "height": null,
            "justify_content": null,
            "justify_items": null,
            "left": null,
            "margin": null,
            "max_height": null,
            "max_width": null,
            "min_height": null,
            "min_width": null,
            "object_fit": null,
            "object_position": null,
            "order": null,
            "overflow": null,
            "overflow_x": null,
            "overflow_y": null,
            "padding": null,
            "right": null,
            "top": null,
            "visibility": null,
            "width": null
          }
        },
        "dcb280322036416e91b2cfe6ea6a8b80": {
          "model_module": "@jupyter-widgets/controls",
          "model_module_version": "1.5.0",
          "model_name": "DescriptionStyleModel",
          "state": {
            "_model_module": "@jupyter-widgets/controls",
            "_model_module_version": "1.5.0",
            "_model_name": "DescriptionStyleModel",
            "_view_count": null,
            "_view_module": "@jupyter-widgets/base",
            "_view_module_version": "1.2.0",
            "_view_name": "StyleView",
            "description_width": ""
          }
        },
        "ddb84d7904504bf98f443e5caa840229": {
          "model_module": "@jupyter-widgets/controls",
          "model_module_version": "1.5.0",
          "model_name": "HTMLModel",
          "state": {
            "_dom_classes": [],
            "_model_module": "@jupyter-widgets/controls",
            "_model_module_version": "1.5.0",
            "_model_name": "HTMLModel",
            "_view_count": null,
            "_view_module": "@jupyter-widgets/controls",
            "_view_module_version": "1.5.0",
            "_view_name": "HTMLView",
            "description": "",
            "description_tooltip": null,
            "layout": "IPY_MODEL_8c1b96b238844cff8b051071f7adadbd",
            "placeholder": "​",
            "style": "IPY_MODEL_846525b9845c465bac8005e3dd53a8b0",
            "value": " 1/1 [00:00&lt;00:00, 131.13it/s]"
          }
        },
        "df9380fdf5c440f4a9b168b913b8c518": {
          "model_module": "@jupyter-widgets/base",
          "model_module_version": "1.2.0",
          "model_name": "LayoutModel",
          "state": {
            "_model_module": "@jupyter-widgets/base",
            "_model_module_version": "1.2.0",
            "_model_name": "LayoutModel",
            "_view_count": null,
            "_view_module": "@jupyter-widgets/base",
            "_view_module_version": "1.2.0",
            "_view_name": "LayoutView",
            "align_content": null,
            "align_items": null,
            "align_self": null,
            "border": null,
            "bottom": null,
            "display": null,
            "flex": null,
            "flex_flow": null,
            "grid_area": null,
            "grid_auto_columns": null,
            "grid_auto_flow": null,
            "grid_auto_rows": null,
            "grid_column": null,
            "grid_gap": null,
            "grid_row": null,
            "grid_template_areas": null,
            "grid_template_columns": null,
            "grid_template_rows": null,
            "height": null,
            "justify_content": null,
            "justify_items": null,
            "left": null,
            "margin": null,
            "max_height": null,
            "max_width": null,
            "min_height": null,
            "min_width": null,
            "object_fit": null,
            "object_position": null,
            "order": null,
            "overflow": null,
            "overflow_x": null,
            "overflow_y": null,
            "padding": null,
            "right": null,
            "top": null,
            "visibility": null,
            "width": null
          }
        },
        "e4651e4a7f88416caad89d75321e8ae6": {
          "model_module": "@jupyter-widgets/controls",
          "model_module_version": "1.5.0",
          "model_name": "DescriptionStyleModel",
          "state": {
            "_model_module": "@jupyter-widgets/controls",
            "_model_module_version": "1.5.0",
            "_model_name": "DescriptionStyleModel",
            "_view_count": null,
            "_view_module": "@jupyter-widgets/base",
            "_view_module_version": "1.2.0",
            "_view_name": "StyleView",
            "description_width": ""
          }
        },
        "f0d137d9c2c844ba80c3c96fc4bd7a77": {
          "model_module": "@jupyter-widgets/base",
          "model_module_version": "1.2.0",
          "model_name": "LayoutModel",
          "state": {
            "_model_module": "@jupyter-widgets/base",
            "_model_module_version": "1.2.0",
            "_model_name": "LayoutModel",
            "_view_count": null,
            "_view_module": "@jupyter-widgets/base",
            "_view_module_version": "1.2.0",
            "_view_name": "LayoutView",
            "align_content": null,
            "align_items": null,
            "align_self": null,
            "border": null,
            "bottom": null,
            "display": null,
            "flex": null,
            "flex_flow": null,
            "grid_area": null,
            "grid_auto_columns": null,
            "grid_auto_flow": null,
            "grid_auto_rows": null,
            "grid_column": null,
            "grid_gap": null,
            "grid_row": null,
            "grid_template_areas": null,
            "grid_template_columns": null,
            "grid_template_rows": null,
            "height": null,
            "justify_content": null,
            "justify_items": null,
            "left": null,
            "margin": null,
            "max_height": null,
            "max_width": null,
            "min_height": null,
            "min_width": null,
            "object_fit": null,
            "object_position": null,
            "order": null,
            "overflow": null,
            "overflow_x": null,
            "overflow_y": null,
            "padding": null,
            "right": null,
            "top": null,
            "visibility": null,
            "width": null
          }
        },
        "f48b90c9850842508bb855e30b8a0643": {
          "model_module": "@jupyter-widgets/controls",
          "model_module_version": "1.5.0",
          "model_name": "ProgressStyleModel",
          "state": {
            "_model_module": "@jupyter-widgets/controls",
            "_model_module_version": "1.5.0",
            "_model_name": "ProgressStyleModel",
            "_view_count": null,
            "_view_module": "@jupyter-widgets/base",
            "_view_module_version": "1.2.0",
            "_view_name": "StyleView",
            "bar_color": null,
            "description_width": ""
          }
        },
        "f4a065556a5640868f3c214588a43849": {
          "model_module": "@jupyter-widgets/controls",
          "model_module_version": "1.5.0",
          "model_name": "HTMLModel",
          "state": {
            "_dom_classes": [],
            "_model_module": "@jupyter-widgets/controls",
            "_model_module_version": "1.5.0",
            "_model_name": "HTMLModel",
            "_view_count": null,
            "_view_module": "@jupyter-widgets/controls",
            "_view_module_version": "1.5.0",
            "_view_name": "HTMLView",
            "description": "",
            "description_tooltip": null,
            "layout": "IPY_MODEL_59e0a501e9614f81bd1e78191624032f",
            "placeholder": "​",
            "style": "IPY_MODEL_d6d563affebb4b20a40dc4b85e6b414e",
            "value": "Fetching 1 files: 100%"
          }
        },
        "f519b9bddd334ea389c55b9a36f9afe1": {
          "model_module": "@jupyter-widgets/controls",
          "model_module_version": "1.5.0",
          "model_name": "HTMLModel",
          "state": {
            "_dom_classes": [],
            "_model_module": "@jupyter-widgets/controls",
            "_model_module_version": "1.5.0",
            "_model_name": "HTMLModel",
            "_view_count": null,
            "_view_module": "@jupyter-widgets/controls",
            "_view_module_version": "1.5.0",
            "_view_name": "HTMLView",
            "description": "",
            "description_tooltip": null,
            "layout": "IPY_MODEL_026e76ffd51f47659f7cf0baebc95604",
            "placeholder": "​",
            "style": "IPY_MODEL_9096be7e058546d7a26fb8876504339b",
            "value": " 1/1 [00:00&lt;00:00, 132.90it/s]"
          }
        },
        "f766716a251740679bfaa64a62f731ec": {
          "model_module": "@jupyter-widgets/controls",
          "model_module_version": "1.5.0",
          "model_name": "HTMLModel",
          "state": {
            "_dom_classes": [],
            "_model_module": "@jupyter-widgets/controls",
            "_model_module_version": "1.5.0",
            "_model_name": "HTMLModel",
            "_view_count": null,
            "_view_module": "@jupyter-widgets/controls",
            "_view_module_version": "1.5.0",
            "_view_name": "HTMLView",
            "description": "",
            "description_tooltip": null,
            "layout": "IPY_MODEL_cad482475fae44ec9f0d8730248e5a60",
            "placeholder": "​",
            "style": "IPY_MODEL_ff04168c58a74caca2630eb23d7a0ab2",
            "value": "Fetching 1 files: 100%"
          }
        },
        "f906e23e0a0c46d69e283f586d9df544": {
          "model_module": "@jupyter-widgets/controls",
          "model_module_version": "1.5.0",
          "model_name": "HBoxModel",
          "state": {
            "_dom_classes": [],
            "_model_module": "@jupyter-widgets/controls",
            "_model_module_version": "1.5.0",
            "_model_name": "HBoxModel",
            "_view_count": null,
            "_view_module": "@jupyter-widgets/controls",
            "_view_module_version": "1.5.0",
            "_view_name": "HBoxView",
            "box_style": "",
            "children": [
              "IPY_MODEL_cdd83d9ddc3c4c88b709e7660a105436",
              "IPY_MODEL_4a329efd7a194baf908d1a817589ba4d",
              "IPY_MODEL_a15d3123b65d40bc849fd24e991aa19d"
            ],
            "layout": "IPY_MODEL_9e024cfde4184ae18e7b6943bb8d385f"
          }
        },
        "fcd00bad340f457893d4af1951433d71": {
          "model_module": "@jupyter-widgets/controls",
          "model_module_version": "1.5.0",
          "model_name": "DescriptionStyleModel",
          "state": {
            "_model_module": "@jupyter-widgets/controls",
            "_model_module_version": "1.5.0",
            "_model_name": "DescriptionStyleModel",
            "_view_count": null,
            "_view_module": "@jupyter-widgets/base",
            "_view_module_version": "1.2.0",
            "_view_name": "StyleView",
            "description_width": ""
          }
        },
        "fecdbf62ddc34be08d8899d6e3ec61d5": {
          "model_module": "@jupyter-widgets/controls",
          "model_module_version": "1.5.0",
          "model_name": "DescriptionStyleModel",
          "state": {
            "_model_module": "@jupyter-widgets/controls",
            "_model_module_version": "1.5.0",
            "_model_name": "DescriptionStyleModel",
            "_view_count": null,
            "_view_module": "@jupyter-widgets/base",
            "_view_module_version": "1.2.0",
            "_view_name": "StyleView",
            "description_width": ""
          }
        },
        "ff04168c58a74caca2630eb23d7a0ab2": {
          "model_module": "@jupyter-widgets/controls",
          "model_module_version": "1.5.0",
          "model_name": "DescriptionStyleModel",
          "state": {
            "_model_module": "@jupyter-widgets/controls",
            "_model_module_version": "1.5.0",
            "_model_name": "DescriptionStyleModel",
            "_view_count": null,
            "_view_module": "@jupyter-widgets/base",
            "_view_module_version": "1.2.0",
            "_view_name": "StyleView",
            "description_width": ""
          }
        },
        "ffd7641046ea40da80a26c0cdf48c0de": {
          "model_module": "@jupyter-widgets/base",
          "model_module_version": "1.2.0",
          "model_name": "LayoutModel",
          "state": {
            "_model_module": "@jupyter-widgets/base",
            "_model_module_version": "1.2.0",
            "_model_name": "LayoutModel",
            "_view_count": null,
            "_view_module": "@jupyter-widgets/base",
            "_view_module_version": "1.2.0",
            "_view_name": "LayoutView",
            "align_content": null,
            "align_items": null,
            "align_self": null,
            "border": null,
            "bottom": null,
            "display": null,
            "flex": null,
            "flex_flow": null,
            "grid_area": null,
            "grid_auto_columns": null,
            "grid_auto_flow": null,
            "grid_auto_rows": null,
            "grid_column": null,
            "grid_gap": null,
            "grid_row": null,
            "grid_template_areas": null,
            "grid_template_columns": null,
            "grid_template_rows": null,
            "height": null,
            "justify_content": null,
            "justify_items": null,
            "left": null,
            "margin": null,
            "max_height": null,
            "max_width": null,
            "min_height": null,
            "min_width": null,
            "object_fit": null,
            "object_position": null,
            "order": null,
            "overflow": null,
            "overflow_x": null,
            "overflow_y": null,
            "padding": null,
            "right": null,
            "top": null,
            "visibility": null,
            "width": null
          }
        }
      }
    }
  },
  "nbformat": 4,
  "nbformat_minor": 5
}
