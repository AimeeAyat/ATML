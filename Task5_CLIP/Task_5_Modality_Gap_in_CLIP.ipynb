{
  "cells": [
    {
      "cell_type": "code",
      "execution_count": null,
      "metadata": {
        "colab": {
          "base_uri": "https://localhost:8080/"
        },
        "collapsed": true,
        "id": "2zC4WM7-gQlM",
        "outputId": "cdfe193f-6401-414d-c38f-4936564924d1"
      },
      "outputs": [],
      "source": [
        "!pip install torch torchvision ftfy regex tqdm matplotlib umap-learn scikit-learn scipy git+https://github.com/openai/CLIP.git"
      ]
    },
    {
      "cell_type": "code",
      "execution_count": null,
      "metadata": {
        "colab": {
          "base_uri": "https://localhost:8080/"
        },
        "collapsed": true,
        "id": "xi8FHzDQlWbN",
        "outputId": "db8170c2-6a4e-47e2-bef1-07c289fc7fdd"
      },
      "outputs": [],
      "source": [
        "#import github clip\n",
        "!pip install open_clip_torch\n"
      ]
    },
    {
      "cell_type": "code",
      "execution_count": 3,
      "metadata": {
        "id": "KTgXnQme9Aae"
      },
      "outputs": [],
      "source": [
        "import os, math, random, json\n",
        "from typing import List, Dict, Tuple"
      ]
    },
    {
      "cell_type": "code",
      "execution_count": 4,
      "metadata": {
        "id": "qOD0uV1w9AXn"
      },
      "outputs": [],
      "source": [
        "import numpy as np\n",
        "import torch\n",
        "import torch.nn.functional as F\n",
        "from torch.utils.data import DataLoader, Subset\n",
        "from torchvision import datasets, transforms\n",
        "import matplotlib.pyplot as plt\n",
        "from tqdm import tqdm"
      ]
    },
    {
      "cell_type": "code",
      "execution_count": 5,
      "metadata": {
        "id": "byov-Ky29AU1"
      },
      "outputs": [],
      "source": [
        "import clip\n",
        "from sklearn.manifold import TSNE"
      ]
    },
    {
      "cell_type": "code",
      "execution_count": 6,
      "metadata": {
        "id": "KEN-TPkP9ARB"
      },
      "outputs": [],
      "source": [
        "try:\n",
        "    import umap\n",
        "    HAVE_UMAP = True\n",
        "except Exception:\n",
        "    HAVE_UMAP = False"
      ]
    },
    {
      "cell_type": "code",
      "execution_count": 7,
      "metadata": {
        "id": "IxIpZXQX9AOB"
      },
      "outputs": [],
      "source": [
        "from scipy.linalg import orthogonal_procrustes"
      ]
    },
    {
      "cell_type": "code",
      "execution_count": 8,
      "metadata": {
        "id": "ZwdcNgcb9AK_"
      },
      "outputs": [],
      "source": [
        "# setting Reproducability of code & device\n",
        "def set_seed(seed=1337):\n",
        "    random.seed(seed); np.random.seed(seed); torch.manual_seed(seed); torch.cuda.manual_seed_all(seed)\n",
        "    torch.backends.cudnn.deterministic = True; torch.backends.cudnn.benchmark = False\n",
        "set_seed(42)\n",
        "device = \"cuda\" if torch.cuda.is_available() else \"cpu\""
      ]
    },
    {
      "cell_type": "code",
      "execution_count": null,
      "metadata": {
        "id": "AjwH_8xk9AIC"
      },
      "outputs": [],
      "source": [
        "os.makedirs(\"artifacts\", exist_ok=True)"
      ]
    },
    {
      "cell_type": "code",
      "execution_count": 10,
      "metadata": {
        "colab": {
          "base_uri": "https://localhost:8080/",
          "height": 35
        },
        "id": "oUIqghrN9AE_",
        "outputId": "e677c928-ddfd-45c5-b91d-61ceeee01dc9"
      },
      "outputs": [
        {
          "data": {
            "application/vnd.google.colaboratory.intrinsic+json": {
              "type": "string"
            },
            "text/plain": [
              "'cuda'"
            ]
          },
          "execution_count": 10,
          "metadata": {},
          "output_type": "execute_result"
        }
      ],
      "source": [
        "device"
      ]
    },
    {
      "cell_type": "code",
      "execution_count": 11,
      "metadata": {
        "colab": {
          "base_uri": "https://localhost:8080/"
        },
        "collapsed": true,
        "id": "mqlT4TCo9-5v",
        "outputId": "5da8b59d-8234-47e6-8369-bb26298a1e70"
      },
      "outputs": [
        {
          "name": "stderr",
          "output_type": "stream",
          "text": [
            "100%|███████████████████████████████████████| 338M/338M [00:15<00:00, 23.2MiB/s]\n"
          ]
        },
        {
          "data": {
            "text/plain": [
              "CLIP(\n",
              "  (visual): VisionTransformer(\n",
              "    (conv1): Conv2d(3, 768, kernel_size=(32, 32), stride=(32, 32), bias=False)\n",
              "    (ln_pre): LayerNorm((768,), eps=1e-05, elementwise_affine=True)\n",
              "    (transformer): Transformer(\n",
              "      (resblocks): Sequential(\n",
              "        (0): ResidualAttentionBlock(\n",
              "          (attn): MultiheadAttention(\n",
              "            (out_proj): NonDynamicallyQuantizableLinear(in_features=768, out_features=768, bias=True)\n",
              "          )\n",
              "          (ln_1): LayerNorm((768,), eps=1e-05, elementwise_affine=True)\n",
              "          (mlp): Sequential(\n",
              "            (c_fc): Linear(in_features=768, out_features=3072, bias=True)\n",
              "            (gelu): QuickGELU()\n",
              "            (c_proj): Linear(in_features=3072, out_features=768, bias=True)\n",
              "          )\n",
              "          (ln_2): LayerNorm((768,), eps=1e-05, elementwise_affine=True)\n",
              "        )\n",
              "        (1): ResidualAttentionBlock(\n",
              "          (attn): MultiheadAttention(\n",
              "            (out_proj): NonDynamicallyQuantizableLinear(in_features=768, out_features=768, bias=True)\n",
              "          )\n",
              "          (ln_1): LayerNorm((768,), eps=1e-05, elementwise_affine=True)\n",
              "          (mlp): Sequential(\n",
              "            (c_fc): Linear(in_features=768, out_features=3072, bias=True)\n",
              "            (gelu): QuickGELU()\n",
              "            (c_proj): Linear(in_features=3072, out_features=768, bias=True)\n",
              "          )\n",
              "          (ln_2): LayerNorm((768,), eps=1e-05, elementwise_affine=True)\n",
              "        )\n",
              "        (2): ResidualAttentionBlock(\n",
              "          (attn): MultiheadAttention(\n",
              "            (out_proj): NonDynamicallyQuantizableLinear(in_features=768, out_features=768, bias=True)\n",
              "          )\n",
              "          (ln_1): LayerNorm((768,), eps=1e-05, elementwise_affine=True)\n",
              "          (mlp): Sequential(\n",
              "            (c_fc): Linear(in_features=768, out_features=3072, bias=True)\n",
              "            (gelu): QuickGELU()\n",
              "            (c_proj): Linear(in_features=3072, out_features=768, bias=True)\n",
              "          )\n",
              "          (ln_2): LayerNorm((768,), eps=1e-05, elementwise_affine=True)\n",
              "        )\n",
              "        (3): ResidualAttentionBlock(\n",
              "          (attn): MultiheadAttention(\n",
              "            (out_proj): NonDynamicallyQuantizableLinear(in_features=768, out_features=768, bias=True)\n",
              "          )\n",
              "          (ln_1): LayerNorm((768,), eps=1e-05, elementwise_affine=True)\n",
              "          (mlp): Sequential(\n",
              "            (c_fc): Linear(in_features=768, out_features=3072, bias=True)\n",
              "            (gelu): QuickGELU()\n",
              "            (c_proj): Linear(in_features=3072, out_features=768, bias=True)\n",
              "          )\n",
              "          (ln_2): LayerNorm((768,), eps=1e-05, elementwise_affine=True)\n",
              "        )\n",
              "        (4): ResidualAttentionBlock(\n",
              "          (attn): MultiheadAttention(\n",
              "            (out_proj): NonDynamicallyQuantizableLinear(in_features=768, out_features=768, bias=True)\n",
              "          )\n",
              "          (ln_1): LayerNorm((768,), eps=1e-05, elementwise_affine=True)\n",
              "          (mlp): Sequential(\n",
              "            (c_fc): Linear(in_features=768, out_features=3072, bias=True)\n",
              "            (gelu): QuickGELU()\n",
              "            (c_proj): Linear(in_features=3072, out_features=768, bias=True)\n",
              "          )\n",
              "          (ln_2): LayerNorm((768,), eps=1e-05, elementwise_affine=True)\n",
              "        )\n",
              "        (5): ResidualAttentionBlock(\n",
              "          (attn): MultiheadAttention(\n",
              "            (out_proj): NonDynamicallyQuantizableLinear(in_features=768, out_features=768, bias=True)\n",
              "          )\n",
              "          (ln_1): LayerNorm((768,), eps=1e-05, elementwise_affine=True)\n",
              "          (mlp): Sequential(\n",
              "            (c_fc): Linear(in_features=768, out_features=3072, bias=True)\n",
              "            (gelu): QuickGELU()\n",
              "            (c_proj): Linear(in_features=3072, out_features=768, bias=True)\n",
              "          )\n",
              "          (ln_2): LayerNorm((768,), eps=1e-05, elementwise_affine=True)\n",
              "        )\n",
              "        (6): ResidualAttentionBlock(\n",
              "          (attn): MultiheadAttention(\n",
              "            (out_proj): NonDynamicallyQuantizableLinear(in_features=768, out_features=768, bias=True)\n",
              "          )\n",
              "          (ln_1): LayerNorm((768,), eps=1e-05, elementwise_affine=True)\n",
              "          (mlp): Sequential(\n",
              "            (c_fc): Linear(in_features=768, out_features=3072, bias=True)\n",
              "            (gelu): QuickGELU()\n",
              "            (c_proj): Linear(in_features=3072, out_features=768, bias=True)\n",
              "          )\n",
              "          (ln_2): LayerNorm((768,), eps=1e-05, elementwise_affine=True)\n",
              "        )\n",
              "        (7): ResidualAttentionBlock(\n",
              "          (attn): MultiheadAttention(\n",
              "            (out_proj): NonDynamicallyQuantizableLinear(in_features=768, out_features=768, bias=True)\n",
              "          )\n",
              "          (ln_1): LayerNorm((768,), eps=1e-05, elementwise_affine=True)\n",
              "          (mlp): Sequential(\n",
              "            (c_fc): Linear(in_features=768, out_features=3072, bias=True)\n",
              "            (gelu): QuickGELU()\n",
              "            (c_proj): Linear(in_features=3072, out_features=768, bias=True)\n",
              "          )\n",
              "          (ln_2): LayerNorm((768,), eps=1e-05, elementwise_affine=True)\n",
              "        )\n",
              "        (8): ResidualAttentionBlock(\n",
              "          (attn): MultiheadAttention(\n",
              "            (out_proj): NonDynamicallyQuantizableLinear(in_features=768, out_features=768, bias=True)\n",
              "          )\n",
              "          (ln_1): LayerNorm((768,), eps=1e-05, elementwise_affine=True)\n",
              "          (mlp): Sequential(\n",
              "            (c_fc): Linear(in_features=768, out_features=3072, bias=True)\n",
              "            (gelu): QuickGELU()\n",
              "            (c_proj): Linear(in_features=3072, out_features=768, bias=True)\n",
              "          )\n",
              "          (ln_2): LayerNorm((768,), eps=1e-05, elementwise_affine=True)\n",
              "        )\n",
              "        (9): ResidualAttentionBlock(\n",
              "          (attn): MultiheadAttention(\n",
              "            (out_proj): NonDynamicallyQuantizableLinear(in_features=768, out_features=768, bias=True)\n",
              "          )\n",
              "          (ln_1): LayerNorm((768,), eps=1e-05, elementwise_affine=True)\n",
              "          (mlp): Sequential(\n",
              "            (c_fc): Linear(in_features=768, out_features=3072, bias=True)\n",
              "            (gelu): QuickGELU()\n",
              "            (c_proj): Linear(in_features=3072, out_features=768, bias=True)\n",
              "          )\n",
              "          (ln_2): LayerNorm((768,), eps=1e-05, elementwise_affine=True)\n",
              "        )\n",
              "        (10): ResidualAttentionBlock(\n",
              "          (attn): MultiheadAttention(\n",
              "            (out_proj): NonDynamicallyQuantizableLinear(in_features=768, out_features=768, bias=True)\n",
              "          )\n",
              "          (ln_1): LayerNorm((768,), eps=1e-05, elementwise_affine=True)\n",
              "          (mlp): Sequential(\n",
              "            (c_fc): Linear(in_features=768, out_features=3072, bias=True)\n",
              "            (gelu): QuickGELU()\n",
              "            (c_proj): Linear(in_features=3072, out_features=768, bias=True)\n",
              "          )\n",
              "          (ln_2): LayerNorm((768,), eps=1e-05, elementwise_affine=True)\n",
              "        )\n",
              "        (11): ResidualAttentionBlock(\n",
              "          (attn): MultiheadAttention(\n",
              "            (out_proj): NonDynamicallyQuantizableLinear(in_features=768, out_features=768, bias=True)\n",
              "          )\n",
              "          (ln_1): LayerNorm((768,), eps=1e-05, elementwise_affine=True)\n",
              "          (mlp): Sequential(\n",
              "            (c_fc): Linear(in_features=768, out_features=3072, bias=True)\n",
              "            (gelu): QuickGELU()\n",
              "            (c_proj): Linear(in_features=3072, out_features=768, bias=True)\n",
              "          )\n",
              "          (ln_2): LayerNorm((768,), eps=1e-05, elementwise_affine=True)\n",
              "        )\n",
              "      )\n",
              "    )\n",
              "    (ln_post): LayerNorm((768,), eps=1e-05, elementwise_affine=True)\n",
              "  )\n",
              "  (transformer): Transformer(\n",
              "    (resblocks): Sequential(\n",
              "      (0): ResidualAttentionBlock(\n",
              "        (attn): MultiheadAttention(\n",
              "          (out_proj): NonDynamicallyQuantizableLinear(in_features=512, out_features=512, bias=True)\n",
              "        )\n",
              "        (ln_1): LayerNorm((512,), eps=1e-05, elementwise_affine=True)\n",
              "        (mlp): Sequential(\n",
              "          (c_fc): Linear(in_features=512, out_features=2048, bias=True)\n",
              "          (gelu): QuickGELU()\n",
              "          (c_proj): Linear(in_features=2048, out_features=512, bias=True)\n",
              "        )\n",
              "        (ln_2): LayerNorm((512,), eps=1e-05, elementwise_affine=True)\n",
              "      )\n",
              "      (1): ResidualAttentionBlock(\n",
              "        (attn): MultiheadAttention(\n",
              "          (out_proj): NonDynamicallyQuantizableLinear(in_features=512, out_features=512, bias=True)\n",
              "        )\n",
              "        (ln_1): LayerNorm((512,), eps=1e-05, elementwise_affine=True)\n",
              "        (mlp): Sequential(\n",
              "          (c_fc): Linear(in_features=512, out_features=2048, bias=True)\n",
              "          (gelu): QuickGELU()\n",
              "          (c_proj): Linear(in_features=2048, out_features=512, bias=True)\n",
              "        )\n",
              "        (ln_2): LayerNorm((512,), eps=1e-05, elementwise_affine=True)\n",
              "      )\n",
              "      (2): ResidualAttentionBlock(\n",
              "        (attn): MultiheadAttention(\n",
              "          (out_proj): NonDynamicallyQuantizableLinear(in_features=512, out_features=512, bias=True)\n",
              "        )\n",
              "        (ln_1): LayerNorm((512,), eps=1e-05, elementwise_affine=True)\n",
              "        (mlp): Sequential(\n",
              "          (c_fc): Linear(in_features=512, out_features=2048, bias=True)\n",
              "          (gelu): QuickGELU()\n",
              "          (c_proj): Linear(in_features=2048, out_features=512, bias=True)\n",
              "        )\n",
              "        (ln_2): LayerNorm((512,), eps=1e-05, elementwise_affine=True)\n",
              "      )\n",
              "      (3): ResidualAttentionBlock(\n",
              "        (attn): MultiheadAttention(\n",
              "          (out_proj): NonDynamicallyQuantizableLinear(in_features=512, out_features=512, bias=True)\n",
              "        )\n",
              "        (ln_1): LayerNorm((512,), eps=1e-05, elementwise_affine=True)\n",
              "        (mlp): Sequential(\n",
              "          (c_fc): Linear(in_features=512, out_features=2048, bias=True)\n",
              "          (gelu): QuickGELU()\n",
              "          (c_proj): Linear(in_features=2048, out_features=512, bias=True)\n",
              "        )\n",
              "        (ln_2): LayerNorm((512,), eps=1e-05, elementwise_affine=True)\n",
              "      )\n",
              "      (4): ResidualAttentionBlock(\n",
              "        (attn): MultiheadAttention(\n",
              "          (out_proj): NonDynamicallyQuantizableLinear(in_features=512, out_features=512, bias=True)\n",
              "        )\n",
              "        (ln_1): LayerNorm((512,), eps=1e-05, elementwise_affine=True)\n",
              "        (mlp): Sequential(\n",
              "          (c_fc): Linear(in_features=512, out_features=2048, bias=True)\n",
              "          (gelu): QuickGELU()\n",
              "          (c_proj): Linear(in_features=2048, out_features=512, bias=True)\n",
              "        )\n",
              "        (ln_2): LayerNorm((512,), eps=1e-05, elementwise_affine=True)\n",
              "      )\n",
              "      (5): ResidualAttentionBlock(\n",
              "        (attn): MultiheadAttention(\n",
              "          (out_proj): NonDynamicallyQuantizableLinear(in_features=512, out_features=512, bias=True)\n",
              "        )\n",
              "        (ln_1): LayerNorm((512,), eps=1e-05, elementwise_affine=True)\n",
              "        (mlp): Sequential(\n",
              "          (c_fc): Linear(in_features=512, out_features=2048, bias=True)\n",
              "          (gelu): QuickGELU()\n",
              "          (c_proj): Linear(in_features=2048, out_features=512, bias=True)\n",
              "        )\n",
              "        (ln_2): LayerNorm((512,), eps=1e-05, elementwise_affine=True)\n",
              "      )\n",
              "      (6): ResidualAttentionBlock(\n",
              "        (attn): MultiheadAttention(\n",
              "          (out_proj): NonDynamicallyQuantizableLinear(in_features=512, out_features=512, bias=True)\n",
              "        )\n",
              "        (ln_1): LayerNorm((512,), eps=1e-05, elementwise_affine=True)\n",
              "        (mlp): Sequential(\n",
              "          (c_fc): Linear(in_features=512, out_features=2048, bias=True)\n",
              "          (gelu): QuickGELU()\n",
              "          (c_proj): Linear(in_features=2048, out_features=512, bias=True)\n",
              "        )\n",
              "        (ln_2): LayerNorm((512,), eps=1e-05, elementwise_affine=True)\n",
              "      )\n",
              "      (7): ResidualAttentionBlock(\n",
              "        (attn): MultiheadAttention(\n",
              "          (out_proj): NonDynamicallyQuantizableLinear(in_features=512, out_features=512, bias=True)\n",
              "        )\n",
              "        (ln_1): LayerNorm((512,), eps=1e-05, elementwise_affine=True)\n",
              "        (mlp): Sequential(\n",
              "          (c_fc): Linear(in_features=512, out_features=2048, bias=True)\n",
              "          (gelu): QuickGELU()\n",
              "          (c_proj): Linear(in_features=2048, out_features=512, bias=True)\n",
              "        )\n",
              "        (ln_2): LayerNorm((512,), eps=1e-05, elementwise_affine=True)\n",
              "      )\n",
              "      (8): ResidualAttentionBlock(\n",
              "        (attn): MultiheadAttention(\n",
              "          (out_proj): NonDynamicallyQuantizableLinear(in_features=512, out_features=512, bias=True)\n",
              "        )\n",
              "        (ln_1): LayerNorm((512,), eps=1e-05, elementwise_affine=True)\n",
              "        (mlp): Sequential(\n",
              "          (c_fc): Linear(in_features=512, out_features=2048, bias=True)\n",
              "          (gelu): QuickGELU()\n",
              "          (c_proj): Linear(in_features=2048, out_features=512, bias=True)\n",
              "        )\n",
              "        (ln_2): LayerNorm((512,), eps=1e-05, elementwise_affine=True)\n",
              "      )\n",
              "      (9): ResidualAttentionBlock(\n",
              "        (attn): MultiheadAttention(\n",
              "          (out_proj): NonDynamicallyQuantizableLinear(in_features=512, out_features=512, bias=True)\n",
              "        )\n",
              "        (ln_1): LayerNorm((512,), eps=1e-05, elementwise_affine=True)\n",
              "        (mlp): Sequential(\n",
              "          (c_fc): Linear(in_features=512, out_features=2048, bias=True)\n",
              "          (gelu): QuickGELU()\n",
              "          (c_proj): Linear(in_features=2048, out_features=512, bias=True)\n",
              "        )\n",
              "        (ln_2): LayerNorm((512,), eps=1e-05, elementwise_affine=True)\n",
              "      )\n",
              "      (10): ResidualAttentionBlock(\n",
              "        (attn): MultiheadAttention(\n",
              "          (out_proj): NonDynamicallyQuantizableLinear(in_features=512, out_features=512, bias=True)\n",
              "        )\n",
              "        (ln_1): LayerNorm((512,), eps=1e-05, elementwise_affine=True)\n",
              "        (mlp): Sequential(\n",
              "          (c_fc): Linear(in_features=512, out_features=2048, bias=True)\n",
              "          (gelu): QuickGELU()\n",
              "          (c_proj): Linear(in_features=2048, out_features=512, bias=True)\n",
              "        )\n",
              "        (ln_2): LayerNorm((512,), eps=1e-05, elementwise_affine=True)\n",
              "      )\n",
              "      (11): ResidualAttentionBlock(\n",
              "        (attn): MultiheadAttention(\n",
              "          (out_proj): NonDynamicallyQuantizableLinear(in_features=512, out_features=512, bias=True)\n",
              "        )\n",
              "        (ln_1): LayerNorm((512,), eps=1e-05, elementwise_affine=True)\n",
              "        (mlp): Sequential(\n",
              "          (c_fc): Linear(in_features=512, out_features=2048, bias=True)\n",
              "          (gelu): QuickGELU()\n",
              "          (c_proj): Linear(in_features=2048, out_features=512, bias=True)\n",
              "        )\n",
              "        (ln_2): LayerNorm((512,), eps=1e-05, elementwise_affine=True)\n",
              "      )\n",
              "    )\n",
              "  )\n",
              "  (token_embedding): Embedding(49408, 512)\n",
              "  (ln_final): LayerNorm((512,), eps=1e-05, elementwise_affine=True)\n",
              ")"
            ]
          },
          "execution_count": 11,
          "metadata": {},
          "output_type": "execute_result"
        }
      ],
      "source": [
        "model, clip_preprocess = clip.load(\"ViT-B/32\", device=device)\n",
        "model.eval()"
      ]
    },
    {
      "cell_type": "code",
      "execution_count": 12,
      "metadata": {
        "colab": {
          "base_uri": "https://localhost:8080/"
        },
        "id": "tQbG6CREOKm4",
        "outputId": "12986cf7-c80b-4ee9-edbb-7050a8cdaaff"
      },
      "outputs": [
        {
          "data": {
            "text/plain": [
              "True"
            ]
          },
          "execution_count": 12,
          "metadata": {},
          "output_type": "execute_result"
        }
      ],
      "source": [
        "HAVE_UMAP"
      ]
    },
    {
      "cell_type": "code",
      "execution_count": 13,
      "metadata": {
        "colab": {
          "base_uri": "https://localhost:8080/"
        },
        "id": "duVxhCK29ACU",
        "outputId": "ae9475cb-eb0a-4323-c897-4db6e9e85ef8"
      },
      "outputs": [
        {
          "name": "stderr",
          "output_type": "stream",
          "text": [
            "100%|██████████| 2.64G/2.64G [02:42<00:00, 16.3MB/s]\n"
          ]
        }
      ],
      "source": [
        "test = datasets.STL10(root=\"data\", split=\"test\", download=True, transform=clip_preprocess)\n",
        "test_loader = DataLoader(test, batch_size=32, shuffle=False)\n"
      ]
    },
    {
      "cell_type": "code",
      "execution_count": 14,
      "metadata": {
        "id": "r8OpOi19_axG"
      },
      "outputs": [],
      "source": [
        "#classes used in STL-10\n",
        "CLASSES = [\"airplane\",\"bird\",\"car\",\"cat\",\"deer\",\"dog\",\"horse\",\"monkey\",\"ferry\",\"truck\"]"
      ]
    },
    {
      "cell_type": "code",
      "execution_count": null,
      "metadata": {
        "collapsed": true,
        "id": "hhh6aoJ7_au5"
      },
      "outputs": [],
      "source": [
        "def prompt_sets() -> Dict[str, List[str]]:\n",
        "\n",
        "    # plain labels\n",
        "    plain = [f\"{c}\" for c in CLASSES]\n",
        "\n",
        "    # short template\n",
        "    short = [f\"a photo of a {c}\" for c in CLASSES]\n",
        "\n",
        "    #  descriptive variants\n",
        "    TEMPLATES = [\n",
        "        \"a photo of a {}.\",\n",
        "        \"a close-up photo of a {}.\",\n",
        "        \"a bright photo of a {}.\",\n",
        "        \"a cropped photo of the {}.\",\n",
        "        \"a photo of the small {}.\",\n",
        "        \"a close-up of the {}.\",\n",
        "        \"a low resolution photo of a {}.\",\n",
        "        \"a high resolution photo of a {}.\",\n",
        "        \"a picture of one {}.\",\n",
        "        \"a photo of many {}.\",\n",
        "        \"a photograph of a big {}.\",\n",
        "        \"a JPEG photo of a {}.\"\n",
        "    ]\n",
        "\n",
        "    # average text features across templates per class.\n",
        "    variants = []\n",
        "    for c in CLASSES:\n",
        "        variants.append(\"|\".join([t.format(c) for t in TEMPLATES]))\n",
        "\n",
        "    return {\n",
        "        \"plain\": plain,\n",
        "        \"short\": short,\n",
        "        \"variants\": variants,  # pipe-separated template strings per class\n",
        "    }\n",
        "\n",
        "    print(list(prompt_sets()))\n",
        "\n",
        "prompt_sets_dict = prompt_sets()"
      ]
    },
    {
      "cell_type": "code",
      "execution_count": 16,
      "metadata": {
        "id": "PxVus2-I_asJ"
      },
      "outputs": [],
      "source": [
        "# Encode text prompts into class prototypes\n",
        "@torch.no_grad()\n",
        "def build_text_prototypes(model, prompt_sets: Dict[str, List[str]]) -> Dict[str, torch.Tensor]:\n",
        "    out = {}\n",
        "    for key, prompts in prompt_sets.items():\n",
        "        class_feats = []\n",
        "        for entry in prompts:\n",
        "            # entry either a single prompt (plain/short) or a pipe-joined ensemble string (variants)\n",
        "            if \"|\" in entry:\n",
        "                texts = entry.split(\"|\")\n",
        "                tokens = clip.tokenize(texts).to(device)\n",
        "                txt_feat = model.encode_text(tokens)  # [n_templates, d]\n",
        "                txt_feat = F.normalize(txt_feat, dim=-1)\n",
        "                proto = txt_feat.mean(dim=0, keepdim=True)  # average ensemble\n",
        "            else:\n",
        "                tokens = clip.tokenize([entry]).to(device)\n",
        "                proto = F.normalize(model.encode_text(tokens), dim=-1)\n",
        "            class_feats.append(proto)\n",
        "        # shape: [num_classes, d]\n",
        "        out[key] = torch.cat(class_feats, dim=0)\n",
        "    return out  # dict of [C, D]"
      ]
    },
    {
      "cell_type": "code",
      "execution_count": 17,
      "metadata": {
        "colab": {
          "base_uri": "https://localhost:8080/"
        },
        "collapsed": true,
        "id": "-gDDbSXI_apU",
        "outputId": "46bdd26f-309a-4102-ffd2-e24c09940452"
      },
      "outputs": [
        {
          "data": {
            "text/plain": [
              "{'plain': tensor([[ 0.0059, -0.0175, -0.0042,  ...,  0.0177, -0.0110, -0.0174],\n",
              "         [ 0.0214,  0.0040,  0.0057,  ..., -0.0332, -0.0021, -0.0253],\n",
              "         [ 0.0061,  0.0098,  0.0035,  ..., -0.0225, -0.0248,  0.0104],\n",
              "         ...,\n",
              "         [ 0.0055,  0.0013, -0.0085,  ..., -0.0210,  0.0037,  0.0008],\n",
              "         [ 0.0349, -0.0259, -0.0195,  ..., -0.0208,  0.0157,  0.0259],\n",
              "         [ 0.0221,  0.0052, -0.0071,  ..., -0.0005, -0.0157,  0.0014]],\n",
              "        device='cuda:0', dtype=torch.float16),\n",
              " 'short': tensor([[ 0.0128,  0.0264,  0.0105,  ..., -0.0315,  0.0071, -0.0218],\n",
              "         [ 0.0229,  0.0381, -0.0079,  ..., -0.0593,  0.0048, -0.0292],\n",
              "         [ 0.0071,  0.0142, -0.0104,  ..., -0.0375, -0.0331,  0.0004],\n",
              "         ...,\n",
              "         [ 0.0103,  0.0345, -0.0019,  ..., -0.0367,  0.0030, -0.0027],\n",
              "         [ 0.0312, -0.0218, -0.0071,  ..., -0.0061,  0.0069,  0.0252],\n",
              "         [ 0.0124,  0.0341, -0.0018,  ..., -0.0509, -0.0196, -0.0007]],\n",
              "        device='cuda:0', dtype=torch.float16),\n",
              " 'variants': tensor([[ 0.0101,  0.0224, -0.0007,  ..., -0.0207,  0.0206, -0.0178],\n",
              "         [ 0.0170,  0.0373, -0.0159,  ..., -0.0458,  0.0042, -0.0327],\n",
              "         [-0.0012,  0.0186, -0.0246,  ..., -0.0290, -0.0284, -0.0003],\n",
              "         ...,\n",
              "         [ 0.0030,  0.0323, -0.0105,  ..., -0.0250,  0.0085, -0.0018],\n",
              "         [ 0.0249, -0.0204, -0.0033,  ..., -0.0024,  0.0145,  0.0309],\n",
              "         [ 0.0036,  0.0360, -0.0123,  ..., -0.0385, -0.0111,  0.0018]],\n",
              "        device='cuda:0', dtype=torch.float16)}"
            ]
          },
          "execution_count": 17,
          "metadata": {},
          "output_type": "execute_result"
        }
      ],
      "source": [
        "text_prototypes=build_text_prototypes(model, prompt_sets=prompt_sets())\n",
        "text_prototypes"
      ]
    },
    {
      "cell_type": "code",
      "execution_count": null,
      "metadata": {
        "colab": {
          "base_uri": "https://localhost:8080/"
        },
        "id": "8M4HAn4j_am9",
        "outputId": "32403804-cced-48b9-cd93-6bf75e6aadf2"
      },
      "outputs": [
        {
          "name": "stdout",
          "output_type": "stream",
          "text": [
            "3\n",
            "torch.Size([10, 512])\n",
            "torch.Size([10, 512])\n",
            "torch.Size([10, 512])\n"
          ]
        }
      ],
      "source": [
        "#check size of tensors ,10 for classes and 512 for clip embeddings of each class\n",
        "print(len(text_prototypes))\n",
        "print(text_prototypes[\"plain\"].shape)\n",
        "print(text_prototypes[\"short\"].shape)\n",
        "print(text_prototypes[\"variants\"].shape)"
      ]
    },
    {
      "cell_type": "code",
      "execution_count": 19,
      "metadata": {
        "id": "PYl7WtmuMBDG"
      },
      "outputs": [],
      "source": [
        "# encoding images\n",
        "@torch.no_grad()\n",
        "def encode_images(model, loader) -> torch.Tensor:\n",
        "    image_feats = []\n",
        "    for imgs, _ in tqdm(loader, desc=\"Encoding images\"):\n",
        "        imgs = imgs.to(device)\n",
        "        feats = model.encode_image(imgs)\n",
        "        feats = F.normalize(feats, dim=-1)\n",
        "        image_feats.append(feats.float().cpu())\n",
        "    return torch.cat(image_feats, dim=0)  # [N, D]"
      ]
    },
    {
      "cell_type": "code",
      "execution_count": 20,
      "metadata": {
        "colab": {
          "base_uri": "https://localhost:8080/"
        },
        "collapsed": true,
        "id": "G6vOxXuoMBAd",
        "outputId": "27206bf3-13cd-43ac-9a0d-5d57594960e1"
      },
      "outputs": [
        {
          "name": "stderr",
          "output_type": "stream",
          "text": [
            "Encoding images: 100%|██████████| 250/250 [00:16<00:00, 14.71it/s]\n"
          ]
        },
        {
          "data": {
            "text/plain": [
              "tensor([[-4.3755e-03,  2.2232e-02,  3.0785e-03,  ...,  7.8735e-02,\n",
              "         -8.2474e-03,  2.9724e-02],\n",
              "        [-8.5144e-03,  2.7145e-02, -7.2658e-05,  ...,  5.6122e-02,\n",
              "          1.1024e-02,  1.8433e-02],\n",
              "        [-1.3466e-02, -8.4829e-04, -3.2082e-03,  ...,  5.8807e-02,\n",
              "         -2.5620e-02, -1.8494e-02],\n",
              "        ...,\n",
              "        [ 3.0807e-02, -6.2408e-03, -2.8900e-02,  ...,  5.6885e-02,\n",
              "          2.1744e-03, -4.6387e-03],\n",
              "        [-1.0963e-02, -9.9373e-04, -5.4321e-02,  ...,  6.7566e-02,\n",
              "         -2.1484e-02,  1.4687e-03],\n",
              "        [-9.7275e-03, -2.8503e-02,  4.5156e-04,  ...,  4.5563e-02,\n",
              "          3.9825e-03, -2.1332e-02]])"
            ]
          },
          "execution_count": 20,
          "metadata": {},
          "output_type": "execute_result"
        }
      ],
      "source": [
        "image_feats_all = encode_images(model, test_loader)\n",
        "image_feats_all"
      ]
    },
    {
      "cell_type": "code",
      "execution_count": 21,
      "metadata": {
        "colab": {
          "base_uri": "https://localhost:8080/"
        },
        "id": "RI3H9IAtMA90",
        "outputId": "a0b7994f-2853-4aa2-ad65-ec8df19ee3e7"
      },
      "outputs": [
        {
          "name": "stdout",
          "output_type": "stream",
          "text": [
            "8000\n",
            "torch.Size([8000, 512])\n"
          ]
        }
      ],
      "source": [
        "print(len(image_feats_all))\n",
        "print(image_feats_all.shape)"
      ]
    },
    {
      "cell_type": "code",
      "execution_count": 22,
      "metadata": {
        "id": "phzpsZsmMgM1"
      },
      "outputs": [],
      "source": [
        "# Zero-shot accuracy\n",
        "@torch.no_grad()\n",
        "def zero_shot_eval(image_feats: torch.Tensor, text_protos: torch.Tensor, labels: np.ndarray) -> float:\n",
        "    # cosine similarity via dot after L2 norm above\n",
        "    image_feats=image_feats.to(device).half() # Convert image_feats to half precision\n",
        "    text_protos=text_protos.to(device)\n",
        "    logits = image_feats @ text_protos.T  # [N, C]\n",
        "    print(image_feats.dtype, text_protos.dtype)\n",
        "    preds = torch.argmax(logits, dim=1).cpu().numpy()\n",
        "    acc = (preds == labels).mean() * 100.0\n",
        "    return float(acc), preds"
      ]
    },
    {
      "cell_type": "code",
      "execution_count": 23,
      "metadata": {
        "colab": {
          "base_uri": "https://localhost:8080/"
        },
        "id": "pVaUYo_RMgKK",
        "outputId": "f08be10b-0607-450b-d2a5-a61bd7715c3d"
      },
      "outputs": [
        {
          "name": "stdout",
          "output_type": "stream",
          "text": [
            "torch.float16 torch.float16\n"
          ]
        }
      ],
      "source": [
        "zero_shot_evaluation_plain=zero_shot_eval(image_feats_all, text_prototypes['plain'], test.labels)"
      ]
    },
    {
      "cell_type": "code",
      "execution_count": 24,
      "metadata": {
        "colab": {
          "base_uri": "https://localhost:8080/"
        },
        "id": "C3h_JFwuMgH7",
        "outputId": "73460f8e-9125-4bc9-d2e6-3887c2590940"
      },
      "outputs": [
        {
          "name": "stdout",
          "output_type": "stream",
          "text": [
            "Zero-shot accuracy: 95.38\n"
          ]
        }
      ],
      "source": [
        "accuracy_plain , _ = zero_shot_evaluation_plain\n",
        "print(f\"Zero-shot accuracy: {accuracy_plain:.2f}\")"
      ]
    },
    {
      "cell_type": "code",
      "execution_count": 25,
      "metadata": {
        "colab": {
          "base_uri": "https://localhost:8080/"
        },
        "id": "InQKwSQOQSQu",
        "outputId": "4fca9f31-96f5-449c-b164-4bb73fc58afe"
      },
      "outputs": [
        {
          "name": "stdout",
          "output_type": "stream",
          "text": [
            "torch.float16 torch.float16\n"
          ]
        }
      ],
      "source": [
        "zero_shot_evaluation_short=zero_shot_eval(image_feats_all, text_prototypes['short'], test.labels)"
      ]
    },
    {
      "cell_type": "code",
      "execution_count": 26,
      "metadata": {
        "colab": {
          "base_uri": "https://localhost:8080/"
        },
        "id": "_g4NyqhUQfLU",
        "outputId": "b3710914-18e1-43e7-fed9-0edddd052c95"
      },
      "outputs": [
        {
          "name": "stdout",
          "output_type": "stream",
          "text": [
            "Zero-shot accuracy: 96.73\n"
          ]
        }
      ],
      "source": [
        "accuracy_short , _ = zero_shot_evaluation_short\n",
        "print(f\"Zero-shot accuracy: {accuracy_short:.2f}\")"
      ]
    },
    {
      "cell_type": "code",
      "execution_count": 27,
      "metadata": {
        "colab": {
          "base_uri": "https://localhost:8080/"
        },
        "id": "V1i3xi0UQk5Y",
        "outputId": "b76c34fe-d055-41cc-80ee-930a48282404"
      },
      "outputs": [
        {
          "name": "stdout",
          "output_type": "stream",
          "text": [
            "torch.float16 torch.float16\n"
          ]
        }
      ],
      "source": [
        "zero_shot_evaluation_variants=zero_shot_eval(image_feats_all, text_prototypes['variants'], test.labels)"
      ]
    },
    {
      "cell_type": "code",
      "execution_count": 28,
      "metadata": {
        "colab": {
          "base_uri": "https://localhost:8080/"
        },
        "id": "DBMKjcOiQk3H",
        "outputId": "0d1a8496-ad23-4bb6-8608-d4e27622c830"
      },
      "outputs": [
        {
          "name": "stdout",
          "output_type": "stream",
          "text": [
            "Zero-shot accuracy: 96.59\n"
          ]
        }
      ],
      "source": [
        "accuracy_variants , _ = zero_shot_evaluation_variants\n",
        "print(f\"Zero-shot accuracy: {accuracy_variants:.2f}\")"
      ]
    },
    {
      "cell_type": "code",
      "execution_count": 29,
      "metadata": {
        "id": "VIrYHfUPPwWy"
      },
      "outputs": [],
      "source": [
        "def evaluate_prompts(model, test_loader, test_ds, text_proto_dict):\n",
        "    # Encode all test images once\n",
        "    image_feats = encode_images(model, test_loader)  # [N,D]\n",
        "    labels = np.array(test_ds.labels)  # STL10 stores test labels in .labels\n",
        "\n",
        "    results = {}\n",
        "    for name, protos in text_proto_dict.items():\n",
        "        acc, preds = zero_shot_eval(image_feats, protos.to(image_feats.device), labels)\n",
        "        results[name] = {\"acc\": acc}\n",
        "        np.save(f\"artifacts/preds_{name}.npy\", preds)\n",
        "    np.save(\"artifacts/image_feats.npy\", image_feats.numpy())\n",
        "    np.save(\"artifacts/labels.npy\", labels)\n",
        "    with open(\"artifacts/zero_shot_results.json\", \"w\") as f:\n",
        "        json.dump(results, f, indent=2)\n",
        "    print(\"Zero-shot results:\", results)\n",
        "    return image_feats, labels, results"
      ]
    },
    {
      "cell_type": "code",
      "execution_count": 30,
      "metadata": {
        "colab": {
          "base_uri": "https://localhost:8080/"
        },
        "id": "ELLM_IdWQN79",
        "outputId": "eaa46a59-e3ed-45be-8f52-3d9a2a3c2447"
      },
      "outputs": [
        {
          "name": "stderr",
          "output_type": "stream",
          "text": [
            "Encoding images: 100%|██████████| 250/250 [00:16<00:00, 15.21it/s]"
          ]
        },
        {
          "name": "stdout",
          "output_type": "stream",
          "text": [
            "torch.float16 torch.float16\n",
            "torch.float16 torch.float16\n",
            "torch.float16 torch.float16\n",
            "Zero-shot results: {'plain': {'acc': 95.375}, 'short': {'acc': 96.72500000000001}, 'variants': {'acc': 96.5875}}\n"
          ]
        },
        {
          "name": "stderr",
          "output_type": "stream",
          "text": [
            "\n"
          ]
        }
      ],
      "source": [
        "evaluated_prompts = evaluate_prompts(model, test_loader, test, text_prototypes)"
      ]
    },
    {
      "cell_type": "code",
      "execution_count": 31,
      "metadata": {
        "id": "ESRXNozjQN3M"
      },
      "outputs": [],
      "source": [
        "@torch.no_grad()\n",
        "def paired_embeddings_for_subset(image_feats_all: torch.Tensor,\n",
        "                                 labels: np.ndarray,\n",
        "                                 text_protos_for_analysis: torch.Tensor,\n",
        "                                 n_samples: int = 100,\n",
        "                                 seed: int = 0) -> Tuple[np.ndarray, np.ndarray, np.ndarray]:\n",
        "    rng = np.random.default_rng(seed)\n",
        "    idxs = rng.choice(len(labels), size=min(n_samples, len(labels)), replace=False)\n",
        "    X = image_feats_all[idxs]                         # [k,D]\n",
        "    Y = text_protos_for_analysis[labels[idxs].astype(int)]        # ground-truth text proto for each sample\n",
        "    return idxs, X.cpu().numpy(), Y.detach().cpu().numpy()"
      ]
    },
    {
      "cell_type": "code",
      "execution_count": 32,
      "metadata": {
        "id": "a_lavaKkQN0f"
      },
      "outputs": [],
      "source": [
        "paired_subset_embeddings=paired_embeddings_for_subset(image_feats_all, test.labels, text_prototypes['variants'], n_samples=100, seed=0)"
      ]
    },
    {
      "cell_type": "code",
      "execution_count": 33,
      "metadata": {
        "colab": {
          "base_uri": "https://localhost:8080/"
        },
        "id": "XMOYjcQrQNvG",
        "outputId": "667c306f-dfe0-447a-c481-6ec5bd792011"
      },
      "outputs": [
        {
          "name": "stdout",
          "output_type": "stream",
          "text": [
            "Size of indices: 100\n",
            "Shape of image features subset: (100, 512)\n",
            "Shape of text prototypes subset: (100, 512)\n"
          ]
        }
      ],
      "source": [
        "idxs, X, Y = paired_subset_embeddings\n",
        "print(f\"Size of indices: {idxs.size}\")\n",
        "print(f\"Shape of image features subset: {X.shape}\")\n",
        "print(f\"Shape of text prototypes subset: {Y.shape}\")"
      ]
    },
    {
      "cell_type": "code",
      "execution_count": 34,
      "metadata": {
        "id": "sdQFMhqVQNrq"
      },
      "outputs": [],
      "source": [
        "# 2D projections (t-SNE / UMAP)\n",
        "def project_2d(X: np.ndarray, Y: np.ndarray, method=\"tsne\", seed=0):\n",
        "    Z = np.concatenate([X, Y], axis=0)\n",
        "    if method == \"umap\" and HAVE_UMAP:\n",
        "        reducer = umap.UMAP(random_state=seed, n_neighbors=15, min_dist=0.1)\n",
        "        Z2 = reducer.fit_transform(Z)\n",
        "    else:\n",
        "        Z2 = TSNE(n_components=2, random_state=seed, init=\"pca\", perplexity=min(30, max(5, len(Z)//10))).fit_transform(Z)\n",
        "    X2 = Z2[:len(X)]\n",
        "    Y2 = Z2[len(X):]\n",
        "    return X2, Y2"
      ]
    },
    {
      "cell_type": "code",
      "execution_count": 35,
      "metadata": {
        "colab": {
          "base_uri": "https://localhost:8080/"
        },
        "id": "-dG_UzUJQNoA",
        "outputId": "4ef9bc28-934b-4079-db09-22881f71e75f"
      },
      "outputs": [
        {
          "name": "stderr",
          "output_type": "stream",
          "text": [
            "/usr/local/lib/python3.12/dist-packages/umap/umap_.py:1952: UserWarning: n_jobs value 1 overridden to 1 by setting random_state. Use no seed for parallelism.\n",
            "  warn(\n"
          ]
        }
      ],
      "source": [
        "project_2d_tsne=project_2d(X, Y, method=\"tsne\", seed=0)\n",
        "project_2d_umap=project_2d(X, Y, method=\"umap\", seed=0)"
      ]
    },
    {
      "cell_type": "code",
      "execution_count": 36,
      "metadata": {
        "colab": {
          "base_uri": "https://localhost:8080/"
        },
        "id": "MMWJ0x6VT9Ip",
        "outputId": "b9bad887-928c-4b7e-b232-d731d956bc95"
      },
      "outputs": [
        {
          "name": "stdout",
          "output_type": "stream",
          "text": [
            "Shape of image features subset: (100, 2)\n",
            "Shape of text prototypes subset: (100, 2)\n",
            "Shape of image features subset: (100, 2)\n",
            "Shape of text prototypes subset: (100, 2)\n"
          ]
        }
      ],
      "source": [
        "print(f\"Shape of image features subset: {project_2d_tsne[0].shape}\")\n",
        "print(f\"Shape of text prototypes subset: {project_2d_tsne[1].shape}\")\n",
        "print(f\"Shape of image features subset: {project_2d_umap[0].shape}\")\n",
        "print(f\"Shape of text prototypes subset: {project_2d_umap[1].shape}\")"
      ]
    },
    {
      "cell_type": "code",
      "execution_count": 37,
      "metadata": {
        "id": "ru1z38O6UENl"
      },
      "outputs": [],
      "source": [
        "def plot_modalities(X2, Y2, title, fname):\n",
        "    plt.figure(figsize=(6,6))\n",
        "    plt.scatter(X2[:,0], X2[:,1], s=16, alpha=0.7, label=\"image feats\")\n",
        "    plt.scatter(Y2[:,0], Y2[:,1], s=16, alpha=0.7, marker=\"x\", label=\"text feats\")\n",
        "    plt.legend(); plt.title(title); plt.tight_layout()\n",
        "    plt.savefig(fname, dpi=150); plt.close()"
      ]
    },
    {
      "cell_type": "code",
      "execution_count": 38,
      "metadata": {
        "id": "Ha4xuQPmUFls"
      },
      "outputs": [],
      "source": [
        "plot_modalities_tsne = plot_modalities(project_2d_tsne[0], project_2d_tsne[1], \"Pre-alignment (t-SNE)\", \"artifacts/modality_gap_pre_tsne.png\")\n",
        "plot_modalities_umap = plot_modalities(project_2d_tsne[0], project_2d_tsne[1], \"Pre-alignment (UMAP)\", \"artifacts/modality_gap_pre_umap.png\")"
      ]
    },
    {
      "cell_type": "code",
      "execution_count": 39,
      "metadata": {
        "id": "vRzHIvEEUFi_"
      },
      "outputs": [],
      "source": [
        "# Procrustes alignment (orthogonal)\n",
        "def orthogonal_align(X: np.ndarray, Y: np.ndarray, l2norm_before=True) -> Tuple[np.ndarray, np.ndarray]:\n",
        "    Xc = X.copy(); Yc = Y.copy()\n",
        "    if l2norm_before:\n",
        "        Xc = Xc / (np.linalg.norm(Xc, axis=1, keepdims=True) + 1e-9)\n",
        "        Yc = Yc / (np.linalg.norm(Yc, axis=1, keepdims=True) + 1e-9)\n",
        "    R, _ = orthogonal_procrustes(Xc, Yc)  # finds R minimizing ||X R - Y||_F  (R is orthogonal)\n",
        "    X_aligned = X @ R\n",
        "    return X_aligned, R"
      ]
    },
    {
      "cell_type": "code",
      "execution_count": 40,
      "metadata": {
        "id": "31xvSL03UFgO"
      },
      "outputs": [],
      "source": [
        "X_aligned, R = orthogonal_align(X, Y, l2norm_before=True)"
      ]
    },
    {
      "cell_type": "code",
      "execution_count": 41,
      "metadata": {
        "colab": {
          "base_uri": "https://localhost:8080/"
        },
        "id": "Jbw2x1eKUFdu",
        "outputId": "fa57e7ab-1ea4-492d-d3e9-fe00ba56aae4"
      },
      "outputs": [
        {
          "name": "stdout",
          "output_type": "stream",
          "text": [
            "Shape of image features subset: (100, 512)\n",
            "Shape of text prototypes subset: (512, 512)\n"
          ]
        }
      ],
      "source": [
        "print(f\"Shape of image features subset: {X_aligned.shape}\")\n",
        "print(f\"Shape of text prototypes subset: {R.shape}\")"
      ]
    },
    {
      "cell_type": "code",
      "execution_count": 42,
      "metadata": {
        "id": "mpaohFXZU3Ry"
      },
      "outputs": [],
      "source": [
        "@torch.no_grad()\n",
        "def apply_rotation_to_all(image_feats_all: torch.Tensor, R: np.ndarray) -> torch.Tensor:\n",
        "    A = torch.from_numpy(R).to(image_feats_all.device).float()  # [D,D]\n",
        "    return (image_feats_all @ A.T).contiguous()"
      ]
    },
    {
      "cell_type": "code",
      "execution_count": 43,
      "metadata": {
        "id": "J7huEqZJU4nu"
      },
      "outputs": [],
      "source": [
        "rotated_images = apply_rotation_to_all(image_feats_all, R)"
      ]
    },
    {
      "cell_type": "code",
      "execution_count": 44,
      "metadata": {
        "colab": {
          "base_uri": "https://localhost:8080/"
        },
        "id": "6rYGvRA7U9Ny",
        "outputId": "9244308c-e0cc-495f-d155-7b21ad29898d"
      },
      "outputs": [
        {
          "name": "stdout",
          "output_type": "stream",
          "text": [
            "Shape of image features subset: torch.Size([8000, 512])\n"
          ]
        }
      ],
      "source": [
        "print(f\"Shape of image features subset: {rotated_images.shape}\")"
      ]
    },
    {
      "cell_type": "code",
      "execution_count": 45,
      "metadata": {
        "colab": {
          "base_uri": "https://localhost:8080/"
        },
        "id": "cqNA2Vk8YxQT",
        "outputId": "2cdc0c91-5e74-4347-d208-4101c538c62b"
      },
      "outputs": [
        {
          "name": "stderr",
          "output_type": "stream",
          "text": [
            "Encoding images: 100%|██████████| 250/250 [00:16<00:00, 15.44it/s]\n"
          ]
        },
        {
          "name": "stdout",
          "output_type": "stream",
          "text": [
            "torch.float16 torch.float16\n",
            "torch.float16 torch.float16\n",
            "torch.float16 torch.float16\n",
            "Zero-shot results: {'plain': {'acc': 95.375}, 'short': {'acc': 96.72500000000001}, 'variants': {'acc': 96.5875}}\n"
          ]
        },
        {
          "name": "stderr",
          "output_type": "stream",
          "text": [
            "/usr/local/lib/python3.12/dist-packages/umap/umap_.py:1952: UserWarning: n_jobs value 1 overridden to 1 by setting random_state. Use no seed for parallelism.\n",
            "  warn(\n"
          ]
        },
        {
          "name": "stdout",
          "output_type": "stream",
          "text": [
            "torch.float16 torch.float16\n",
            "torch.float16 torch.float16\n",
            "torch.float16 torch.float16\n",
            "torch.float16 torch.float16\n",
            "torch.float16 torch.float16\n",
            "torch.float16 torch.float16\n",
            "\n",
            "=== Baseline zero-shot (%) ===\n",
            "plain     : 95.38\n",
            "short     : 96.73\n",
            "variants  : 96.59\n",
            "\n",
            "=== After Procrustes (train on subset, apply to all) ===\n",
            "plain     : L2 61.71 | noL2 68.94\n",
            "short     : L2 60.02 | noL2 60.95\n",
            "variants  : L2 60.12 | noL2 64.96\n"
          ]
        }
      ],
      "source": [
        "model.eval()\n",
        "\n",
        "# (1) Build prompt sets & text prototypes\n",
        "prompt_sets = prompt_sets()\n",
        "text_protos = build_text_prototypes(model, prompt_sets)  # dict name -> [C,D]\n",
        "# Add also a reference text proto bank we’ll use for pairing/visualization (take the strongest = variants)\n",
        "text_proto_for_analysis = text_protos[\"variants\"]  # [C,D]\n",
        "\n",
        "image_feats_all, labels, results0 = evaluate_prompts(model, test_loader, test, text_protos)\n",
        "\n",
        "idxs, X_im, Y_txt = paired_embeddings_for_subset(image_feats_all, labels, text_proto_for_analysis, n_samples=100, seed=0)\n",
        "for meth in [\"tsne\", \"umap\"]:\n",
        "  X2, Y2 = project_2d(X_im, Y_txt, method=meth, seed=0)\n",
        "  plot_modalities(X2, Y2, f\"Pre-alignment ({meth.upper()})\", f\"artifacts/modality_gap_pre_{meth}.png\")\n",
        "X_aligned_norm, R_norm = orthogonal_align(X_im, Y_txt, l2norm_before=True)\n",
        "X2a, Y2a = project_2d(X_aligned_norm, Y_txt, method=\"tsne\", seed=0)\n",
        "plot_modalities(X2a, Y2a, \"Post-alignment (t-SNE, L2 before Procrustes)\", \"artifacts/modality_gap_post_tsne_norm.png\")\n",
        "\n",
        "X_aligned_raw, R_raw = orthogonal_align(X_im, Y_txt, l2norm_before=False)\n",
        "X2b, Y2b = project_2d(X_aligned_raw, Y_txt, method=\"tsne\", seed=0)\n",
        "plot_modalities(X2b, Y2b, \"Post-alignment (t-SNE, NO L2 before Procrustes)\", \"artifacts/modality_gap_post_tsne_noL2.png\")\n",
        "\n",
        "# (3f) Recompute zero-shot accuracy with aligned image features (use same text prototypes)\n",
        "# We apply R learned on subset to ALL image features, then evaluate\n",
        "img_feats_rot_norm = apply_rotation_to_all(image_feats_all, R_norm)\n",
        "img_feats_rot_raw  = apply_rotation_to_all(image_feats_all, R_raw)\n",
        "\n",
        "aligned_results = {}\n",
        "for name, protos in text_protos.items():\n",
        "    acc_norm, _ = zero_shot_eval(img_feats_rot_norm, protos.to(img_feats_rot_norm.device), labels)\n",
        "    acc_raw,  _  = zero_shot_eval(img_feats_rot_raw,  protos.to(img_feats_rot_raw.device),  labels)\n",
        "    aligned_results[name] = {\"acc_procrustes_L2\": acc_norm, \"acc_procrustes_noL2\": acc_raw}\n",
        "\n",
        "with open(\"artifacts/zero_shot_aligned_results.json\", \"w\") as f:\n",
        "    json.dump(aligned_results, f, indent=2)\n",
        "\n",
        "print(\"\\n=== Baseline zero-shot (%) ===\")\n",
        "for k,v in results0.items(): print(f\"{k:10s}: {v['acc']:.2f}\")\n",
        "\n",
        "print(\"\\n=== After Procrustes (train on subset, apply to all) ===\")\n",
        "for k,v in aligned_results.items():\n",
        "    print(f\"{k:10s}: L2 {v['acc_procrustes_L2']:.2f} | noL2 {v['acc_procrustes_noL2']:.2f}\")\n",
        "\n",
        "# Save report\n",
        "report = {\n",
        "    \"baseline\": results0,\n",
        "    \"aligned\": aligned_results,\n",
        "    \"notes\": [\n",
        "        \"CLIP features are L2-normalized; cosine similarity is dot product.\",\n",
        "        \"Prompt ensembling (variants) typically > short > plain.\",\n",
        "        \"Procrustes is orthogonal (rotation/reflection); preserves norms and pairwise distances.\",\n",
        "        \"L2-normalizing features before Procrustes often yields better alignment (consistent scale).\"\n",
        "    ]\n",
        "}\n",
        "with open(\"artifacts/report_summary.json\", \"w\") as f:\n",
        "    json.dump(report, f, indent=2)"
      ]
    },
    {
      "cell_type": "markdown",
      "metadata": {
        "id": "f43558d5"
      },
      "source": [
        "# Part 2(d): Post-alignment Visualization **and** Quantitative Modality-Gap Metric\n",
        "\n",
        "In this step, we complete Task 5 by:\n",
        "- Re-visualizing **post-alignment** features (t-SNE) to compare with pre-alignment plots.\n",
        "- Reporting a **numeric metric** for the modality gap: the mean paired **cosine similarity** between image and text embeddings **before vs. after** the orthogonal Procrustes alignment (with/without pre L2-normalization).\n",
        "- (Optional) Showing **zero-shot accuracy** again after rotating **all** image features by the learned orthogonal map, to see if alignment helps downstream classification using the same text prototypes."
      ]
    },
    {
      "cell_type": "code",
      "execution_count": null,
      "metadata": {
        "colab": {
          "base_uri": "https://localhost:8080/"
        },
        "id": "5b1d2751",
        "outputId": "6e8b4472-11f4-4703-f091-cf3c2b4fcf5b"
      },
      "outputs": [
        {
          "name": "stderr",
          "output_type": "stream",
          "text": [
            "Encoding images: 100%|██████████| 250/250 [00:16<00:00, 15.08it/s]\n"
          ]
        },
        {
          "name": "stdout",
          "output_type": "stream",
          "text": [
            "torch.float16 torch.float16\n",
            "torch.float16 torch.float16\n",
            "torch.float16 torch.float16\n",
            "Zero-shot results: {'plain': {'acc': 95.375}, 'short': {'acc': 96.72500000000001}, 'variants': {'acc': 96.5875}}\n"
          ]
        },
        {
          "name": "stderr",
          "output_type": "stream",
          "text": [
            "/usr/local/lib/python3.12/dist-packages/umap/umap_.py:1952: UserWarning: n_jobs value 1 overridden to 1 by setting random_state. Use no seed for parallelism.\n",
            "  warn(\n"
          ]
        },
        {
          "name": "stdout",
          "output_type": "stream",
          "text": [
            "Mean paired cosine (↑ is better): {'mean_cosine_pre': 0.2704313099384308, 'mean_cosine_post_L2': 0.8707431554794312, 'mean_cosine_post_noL2': 0.8707432746887207}\n",
            "torch.float16 torch.float16\n",
            "torch.float16 torch.float16\n",
            "torch.float16 torch.float16\n",
            "torch.float16 torch.float16\n",
            "torch.float16 torch.float16\n",
            "torch.float16 torch.float16\n",
            "Zero-shot (baseline acc by bank): {'plain': {'acc': 95.375}, 'short': {'acc': 96.72500000000001}, 'variants': {'acc': 96.5875}}\n",
            "Zero-shot after alignment: {'procrustes_L2': {'acc_plain': 94.7125, 'acc_short': 96.72500000000001, 'acc_variants': 96.8375}, 'procrustes_noL2': {'acc_plain': 94.575, 'acc_short': 96.675, 'acc_variants': 96.8625}}\n",
            "Saved: artifacts/report_summary.json and plots (if reducers available).\n"
          ]
        }
      ],
      "source": [
        "# --- Completes Task 5 Part 2(d): numeric gap metric + post-alignment plots ---\n",
        "import os, json\n",
        "import numpy as np\n",
        "import torch\n",
        "\n",
        "# Ensure artifact directory exists\n",
        "os.makedirs(\"artifacts\", exist_ok=True)\n",
        "\n",
        "# We reuse functions defined earlier in the notebook:\n",
        "# - prompt_sets(), build_text_prototypes(model, psets)\n",
        "# - evaluate_prompts(model, test_loader, test, text_protos)\n",
        "# - paired_embeddings_for_subset(image_feats_all, labels, text_protos[name], n_samples=100, seed=0)\n",
        "# - project_2d(X_im_np, Y_txt_np, method=\"tsne\"/\"umap\", seed=0)\n",
        "# - plot_modalities(X2, Y2, title, outfile)\n",
        "# - orthogonal_align(X_im_np, Y_txt_np, l2norm_before=True/False)\n",
        "# - zero_shot_eval(feats, text_protos[bank].to(device), labels)\n",
        "\n",
        "device = \"cuda\" if torch.cuda.is_available() else \"cpu\"\n",
        "model.eval()\n",
        "\n",
        "# (1) Build prompt sets & text prototypes\n",
        "psets = prompt_sets()\n",
        "text_protos = build_text_prototypes(model, psets)  # dict: bank_name -> tensor [C, D]\n",
        "text_proto_for_analysis = text_protos.get(\"variants\", None)\n",
        "if text_proto_for_analysis is None:\n",
        "    # Fallback: use the most descriptive/longest bank (heuristic). Otherwise pick the first.\n",
        "    text_proto_for_analysis = next(iter(text_protos.values()))\n",
        "\n",
        "# (2) Evaluate across prompt banks on the full test set; also returns image features & labels\n",
        "image_feats_all, labels, baseline_results = evaluate_prompts(model, test_loader, test, text_protos)\n",
        "\n",
        "# (3) Sample paired embeddings (image vs the GT-class text vector) for analysis\n",
        "idxs, X_im_np, Y_txt_np = paired_embeddings_for_subset(\n",
        "    image_feats_all, labels, text_proto_for_analysis, n_samples=100, seed=0\n",
        ")\n",
        "\n",
        "# Helpers\n",
        "def l2norm_np(x):\n",
        "    return x / (np.linalg.norm(x, axis=1, keepdims=True) + 1e-9)\n",
        "\n",
        "def mean_paired_cos(a_np, b_np):\n",
        "    a = l2norm_np(a_np); b = l2norm_np(b_np)\n",
        "    return float((a * b).sum(axis=1).mean())\n",
        "\n",
        "# (4) Pre-alignment t-SNE/UMAP plots for visual comparison\n",
        "for meth in [\"tsne\", \"umap\"]:\n",
        "    try:\n",
        "        X2, Y2 = project_2d(X_im_np, Y_txt_np, method=meth, seed=0)\n",
        "        plot_modalities(X2, Y2, f\"Pre-alignment ({meth.upper()})\", f\"artifacts/modality_gap_pre_{meth}.png\")\n",
        "    except Exception as e:\n",
        "        print(f\"[WARN] Skipping {meth.upper()} pre-alignment plot due to: {e}\")\n",
        "\n",
        "# (5) Orthogonal Procrustes alignment (with and without L2 before solving)\n",
        "X_aligned_L2, R_L2 = orthogonal_align(X_im_np, Y_txt_np, l2norm_before=True)\n",
        "X_aligned_noL2, R_noL2 = orthogonal_align(X_im_np, Y_txt_np, l2norm_before=False)\n",
        "\n",
        "# (6) Post-alignment t-SNE plot (L2-prefered solution)\n",
        "try:\n",
        "    X2a, Y2a = project_2d(X_aligned_L2, Y_txt_np, method=\"tsne\", seed=0)\n",
        "    plot_modalities(X2a, Y2a, \"Post-alignment (t-SNE, L2 before)\", \"artifacts/modality_gap_post_tsne.png\")\n",
        "except Exception as e:\n",
        "    print(f\"[WARN] Skipping TSNE post-alignment plot due to: {e}\")\n",
        "\n",
        "# (7) Quantify modality gap via paired cosine\n",
        "metrics = {\n",
        "    \"mean_cosine_pre\": mean_paired_cos(X_im_np, Y_txt_np),\n",
        "    \"mean_cosine_post_L2\": mean_paired_cos(X_aligned_L2, Y_txt_np),\n",
        "    \"mean_cosine_post_noL2\": mean_paired_cos(X_aligned_noL2, Y_txt_np),\n",
        "}\n",
        "print(\"Mean paired cosine (↑ is better):\", metrics)\n",
        "\n",
        "# (8) Optional: zero-shot after applying R to ALL image feats (sanity-check downstream effect)\n",
        "def apply_R_to_tensor(t: torch.Tensor, R: np.ndarray) -> torch.Tensor:\n",
        "    return (t @ torch.from_numpy(R).float().to(t.device)).to(t.dtype)\n",
        "\n",
        "aligned_results = {}\n",
        "for tag, R in [(\"procrustes_L2\", R_L2), (\"procrustes_noL2\", R_noL2)]:\n",
        "    feats_aligned = apply_R_to_tensor(image_feats_all, R)  # [N,D]\n",
        "    aligned_results[tag] = {}\n",
        "    for bank_name, protos in text_protos.items():\n",
        "        acc, _ = zero_shot_eval(feats_aligned, protos.to(feats_aligned.device), labels)\n",
        "        aligned_results[tag][f\"acc_{bank_name}\"] = float(acc)\n",
        "\n",
        "print(\"Zero-shot (baseline acc by bank):\", baseline_results)\n",
        "print(\"Zero-shot after alignment:\", aligned_results)\n",
        "\n",
        "# (9) Save a compact report for grading\n",
        "summary = {\n",
        "    \"baseline_zero_shot\": baseline_results,\n",
        "    \"mean_paired_cosine\": metrics,\n",
        "    \"aligned_zero_shot\": aligned_results,\n",
        "}\n",
        "with open(\"artifacts/report_summary.json\", \"w\") as f:\n",
        "    json.dump(summary, f, indent=2)\n",
        "\n",
        "print(\"Saved: artifacts/report_summary.json and plots\")"
      ]
    },
    {
      "cell_type": "code",
      "execution_count": 1,
      "metadata": {},
      "outputs": [
        {
          "data": {
            "image/png": "[encoded data removed]",
            "text/plain": [
              "<Figure size 800x500 with 1 Axes>"
            ]
          },
          "metadata": {},
          "output_type": "display_data"
        }
      ],
      "source": [
        "import json\n",
        "\n",
        "import matplotlib.pyplot as plt\n",
        "\n",
        "# Load aligned zero-shot results\n",
        "with open(\"artifacts/zero_shot_aligned_results.json\", \"r\") as f:\n",
        "    aligned_results = json.load(f)\n",
        "\n",
        "# Prepare data for plotting\n",
        "banks = []\n",
        "acc_l2 = []\n",
        "acc_no_l2 = []\n",
        "for bank, scores in aligned_results.items():\n",
        "    banks.append(bank)\n",
        "    acc_l2.append(scores[\"acc_procrustes_L2\"])\n",
        "    acc_no_l2.append(scores[\"acc_procrustes_noL2\"])\n",
        "\n",
        "x = range(len(banks))\n",
        "plt.figure(figsize=(8, 5))\n",
        "plt.bar(x, acc_l2, width=0.4, label=\"L2 before Procrustes\", align='center')\n",
        "plt.bar([i + 0.4 for i in x], acc_no_l2, width=0.4, label=\"No L2 before Procrustes\", align='center')\n",
        "plt.xticks([i + 0.2 for i in x], banks)\n",
        "plt.ylabel(\"Accuracy (%)\")\n",
        "plt.title(\"Zero-shot Accuracy After Procrustes Alignment\")\n",
        "plt.legend()\n",
        "plt.tight_layout()\n",
        "plt.show()"
      ]
    },
    {
      "cell_type": "markdown",
      "metadata": {},
      "source": [
        "## Note: Accuracy decreased as only images are aligned and prompts are not aligned, semantic distortion is observed"
      ]
    },
    {
      "cell_type": "code",
      "execution_count": null,
      "metadata": {},
      "outputs": [
        {
          "data": {
            "image/png": "[encoded data removed]",
            "text/plain": [
              "<Figure size 800x500 with 1 Axes>"
            ]
          },
          "metadata": {},
          "output_type": "display_data"
        }
      ],
      "source": [
        "import json\n",
        "import matplotlib.pyplot as plt\n",
        "\n",
        "# Load results from report_summary.json\n",
        "with open(\"artifacts/report_summary.json\", \"r\") as f:\n",
        "    summary = json.load(f)\n",
        "\n",
        "# Extract baseline and aligned zero-shot results\n",
        "baseline = summary.get(\"baseline_zero_shot\", summary.get(\"baseline\", {}))\n",
        "aligned = summary.get(\"aligned_zero_shot\", summary.get(\"aligned\", {}))\n",
        "\n",
        "# Prepare data for plotting\n",
        "banks = list(baseline.keys())\n",
        "acc_baseline = [baseline[b][\"acc\"] if isinstance(baseline[b], dict) else baseline[b] for b in banks]\n",
        "acc_l2 = [aligned.get(\"procrustes_L2\", aligned).get(f\"acc_{b}\", None) for b in banks]\n",
        "acc_no_l2 = [aligned.get(\"procrustes_noL2\", aligned).get(f\"acc_{b}\", None) for b in banks]\n",
        "\n",
        "x = range(len(banks))\n",
        "plt.figure(figsize=(8, 5))\n",
        "\n",
        "bars1 = plt.bar(x, acc_baseline, width=0.25, label=\"Baseline\", align='center')\n",
        "bars2 = plt.bar([i + 0.25 for i in x], acc_l2, width=0.25, label=\"L2 before Procrustes\", align='center')\n",
        "bars3 = plt.bar([i + 0.5 for i in x], acc_no_l2, width=0.25, label=\"No L2 before Procrustes\", align='center')\n",
        "\n",
        "# Add text labels above bars\n",
        "def add_labels(bars):\n",
        "    for bar in bars:\n",
        "        height = bar.get_height()\n",
        "        if height is not None:\n",
        "            plt.text(\n",
        "                bar.get_x() + bar.get_width() / 2, height + 0.5,\n",
        "                f\"{height:.2f}\", ha='center', va='bottom', fontsize=8\n",
        "            )\n",
        "\n",
        "add_labels(bars1)\n",
        "add_labels(bars2)\n",
        "add_labels(bars3)\n",
        "\n",
        "plt.xticks([i + 0.25 for i in x], banks)\n",
        "plt.ylabel(\"Accuracy (%)\")\n",
        "plt.title(\"Zero-shot Accuracy: Baseline vs. Procrustes Alignment\")\n",
        "plt.legend()\n",
        "plt.tight_layout()\n",
        "plt.show()\n",
        "µ"
      ]
    },
    {
      "cell_type": "markdown",
      "metadata": {},
      "source": [
        "## Note: Accuracy improved as both images and prompts are aligned"
      ]
    }
  ],
  "metadata": {
    "accelerator": "GPU",
    "colab": {
      "gpuType": "A100",
      "provenance": []
    },
    "kernelspec": {
      "display_name": "base",
      "language": "python",
      "name": "python3"
    },
    "language_info": {
      "codemirror_mode": {
        "name": "ipython",
        "version": 3
      },
      "file_extension": ".py",
      "mimetype": "text/x-python",
      "name": "python",
      "nbconvert_exporter": "python",
      "pygments_lexer": "ipython3",
      "version": "3.12.7"
    }
  },
  "nbformat": 4,
  "nbformat_minor": 0
}
